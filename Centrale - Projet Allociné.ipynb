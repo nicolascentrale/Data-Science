{
 "cells": [
  {
   "cell_type": "markdown",
   "metadata": {},
   "source": [
    "# Projet Data Mining - Analyse Allociné\n",
    "## Théo Alves Da Costa\n",
    "\n",
    "### Sommaire : \n",
    "- 1) Chargement et traitement des datasets\n",
    "- 2) Exploration et première approche\n",
    "- 3) Classification non-supervisée\n",
    "- 4) Classification supervisée\n",
    "- 5) Combinaison des différents classifiers\n",
    "- 6) Combinaison des différents datasets"
   ]
  },
  {
   "cell_type": "code",
   "execution_count": 1,
   "metadata": {
    "collapsed": false
   },
   "outputs": [],
   "source": [
    "#Chargement des librairies utilisées pendant le projet\n",
    "import matplotlib.pyplot as plt\n",
    "import numpy as np\n",
    "import pandas as pd\n",
    "import seaborn as sns\n",
    "plt.style.use('ggplot')\n",
    "#plt.style.use('fivethirtyeight')\n",
    "%matplotlib inline"
   ]
  },
  {
   "cell_type": "markdown",
   "metadata": {},
   "source": [
    "***\n",
    "### 1. Chargement et traitement des datasets"
   ]
  },
  {
   "cell_type": "markdown",
   "metadata": {},
   "source": [
    "#### CHARGEMENT"
   ]
  },
  {
   "cell_type": "code",
   "execution_count": 2,
   "metadata": {
    "collapsed": true
   },
   "outputs": [],
   "source": [
    "# Changer ici le chemin vers les fichiers pour tester\n",
    "path = \"Centrale/DM2016_Project/DM2016_Project/data/\""
   ]
  },
  {
   "cell_type": "code",
   "execution_count": 3,
   "metadata": {
    "collapsed": false
   },
   "outputs": [],
   "source": [
    "train_bi = open(path+\"train_bigram.txt\",\"r\").read().split(\"\\n\")\n",
    "train_uni = open(path+\"train_unigram.txt\",\"r\").read().split(\"\\n\")\n",
    "train_unibi = open(path+\"train_unigram+bigram.txt\",\"r\").read().split(\"\\n\")\n",
    "test_bi = open(path+\"test_bigram.txt\",\"r\").read().split(\"\\n\")\n",
    "test_uni = open(path+\"test_unigram.txt\",\"r\").read().split(\"\\n\")\n",
    "test_unibi = open(path+\"test_unigram+bigram.txt\",\"r\").read().split(\"\\n\")"
   ]
  },
  {
   "cell_type": "code",
   "execution_count": 4,
   "metadata": {
    "collapsed": false
   },
   "outputs": [
    {
     "name": "stdout",
     "output_type": "stream",
     "text": [
      "3000\n",
      "1 14:0.1968945584696146 57:0.1931310155053385 68:0.1849318947815893 73:0.1712310249430534 74:0.09667728802234662 81:0.2213387538555783 96:0.1886954377458653 125:0.1696762054432792 133:0.204215633701614 257:0.1867688452301159 271:0.2338431860434315 333:0.2141393653567161 457:0.2101202401820319 463:0.1984432790716003 471:0.1770283496980312 514:0.2057058978700472 533:0.1882049058023192 587:0.1620723338824454 602:0.18339180434326 614:0.1934081205979946 644:0.2076514792362001 651:0.1804808953020789 656:0.1752331626734433 701:0.226773052369155 703:0.2338431860434315 760:0.1646711210866285 774:0.1761205553811566\n"
     ]
    }
   ],
   "source": [
    "print(len(train_bi))\n",
    "print(train_bi[0])"
   ]
  },
  {
   "cell_type": "markdown",
   "metadata": {},
   "source": [
    "#### TRAITEMENT\n",
    "- L'output précédent est une string\n",
    "- Pour pouvoir exploiter les reviews, on convertit chaque string en un dataframe pandas"
   ]
  },
  {
   "cell_type": "code",
   "execution_count": 5,
   "metadata": {
    "collapsed": false
   },
   "outputs": [],
   "source": [
    "def convert_review(review,train = True):\n",
    "    '''Convertit le string d une review en un dictionnaire de données exploitables'''\n",
    "    review = review.split(' ')\n",
    "    new_review = {}\n",
    "    if train:\n",
    "        new_review['target'] = review[0]\n",
    "    new_review['data'] = {}\n",
    "    for data in review[1:]:\n",
    "        word,tfidf = data.split(':')\n",
    "        new_review['data'][int(word)] = float(tfidf)\n",
    "    return new_review\n",
    "\n",
    "import itertools\n",
    "\n",
    "def reviews(train,test,with_tfidf = True):\n",
    "    '''Convertit un fichier de reviews (train + test) en un dataframe pandas\n",
    "    contenant les reviews en ligne et les features (tfidf des mots en colonne)\n",
    "    '''\n",
    "    #On convertit chaque review en dictionnaire avec la fonction précédente\n",
    "    train = [convert_review(x) for x in train]\n",
    "    test = [convert_review(x) for x in test]\n",
    "    \n",
    "    train_datas = [x['data'] for x in train]\n",
    "    train_targets = [x['target'] for x in train]\n",
    "    test_datas = [x['data'] for x in test]\n",
    "    \n",
    "    #On récupère le nombre maximal de features (nombre de mots différents au maximum (voir l'étude ci-dessous))\n",
    "    max_train =  max([max(list(x.keys())) for x in train_datas])\n",
    "    max_test = max([max(list(x.keys())) for x in test_datas])\n",
    "    maximum_features = max(max_train,max_test)\n",
    "    \n",
    "    #On crée les listes qui contiendront pour chaque feature un score (tfidf si le mot est présent 0 sinon)\n",
    "    new_train = []\n",
    "    new_test = []\n",
    "    \n",
    "    #On remplit les listes aux mots correspondants si le tfidf est non nul\n",
    "    for review in train_datas:\n",
    "        data = [0]*(maximum_features+1)\n",
    "        for word,tfidf in review.items():\n",
    "            if with_tfidf:\n",
    "                data[word] = tfidf\n",
    "            else:\n",
    "                data[word] = 1\n",
    "        new_train += [data]\n",
    "        \n",
    "    for review in test_datas:\n",
    "        data = [0]*(maximum_features+1)\n",
    "        for word,tfidf in review.items():\n",
    "            if with_tfidf:\n",
    "                data[word] = tfidf\n",
    "            else:\n",
    "                data[word] = 1\n",
    "        new_test += [data]\n",
    "    \n",
    "    #On convertit en dataFrame en rajoutant les targets pour le set d'entrainement\n",
    "    new_targets = pd.DataFrame(train_targets,columns = ['target'])\n",
    "    new_train,new_test = pd.concat([new_targets,pd.DataFrame(new_train)],axis = 1),pd.DataFrame(new_test)\n",
    "    \n",
    "    return new_train,new_test\n",
    "\n",
    "a,b = reviews(train_uni,test_uni)"
   ]
  },
  {
   "cell_type": "markdown",
   "metadata": {},
   "source": [
    "***\n",
    "### 2. Exploration et première approche\n",
    "\n",
    "#### EXPLORATION D'UN DES DATASETS\n",
    "On va commencer par explorer un des datasets pour comprendre la teneur des informations\n",
    "\n",
    "Ici avec le dataset *bigram* "
   ]
  },
  {
   "cell_type": "code",
   "execution_count": 6,
   "metadata": {
    "collapsed": false
   },
   "outputs": [],
   "source": [
    "train,test = reviews(train_bi,test_bi)\n",
    "X = train.iloc[:,1:]\n",
    "y = train.iloc[:,0]\n",
    "z = pd.DataFrame() #contiendra les résultats des différentes approches"
   ]
  },
  {
   "cell_type": "code",
   "execution_count": 7,
   "metadata": {
    "collapsed": false
   },
   "outputs": [
    {
     "data": {
      "text/html": [
       "<div>\n",
       "<table border=\"1\" class=\"dataframe\">\n",
       "  <thead>\n",
       "    <tr style=\"text-align: right;\">\n",
       "      <th></th>\n",
       "      <th>0</th>\n",
       "      <th>1</th>\n",
       "      <th>2</th>\n",
       "      <th>3</th>\n",
       "      <th>4</th>\n",
       "      <th>5</th>\n",
       "      <th>6</th>\n",
       "      <th>7</th>\n",
       "      <th>8</th>\n",
       "      <th>9</th>\n",
       "      <th>...</th>\n",
       "      <th>812</th>\n",
       "      <th>813</th>\n",
       "      <th>814</th>\n",
       "      <th>815</th>\n",
       "      <th>816</th>\n",
       "      <th>817</th>\n",
       "      <th>818</th>\n",
       "      <th>819</th>\n",
       "      <th>820</th>\n",
       "      <th>821</th>\n",
       "    </tr>\n",
       "  </thead>\n",
       "  <tbody>\n",
       "    <tr>\n",
       "      <th>count</th>\n",
       "      <td>3000.000000</td>\n",
       "      <td>3000.000000</td>\n",
       "      <td>3000.000000</td>\n",
       "      <td>3000.000000</td>\n",
       "      <td>3000.000000</td>\n",
       "      <td>3000.000000</td>\n",
       "      <td>3000.000000</td>\n",
       "      <td>3000.00000</td>\n",
       "      <td>3000.000000</td>\n",
       "      <td>3000.000000</td>\n",
       "      <td>...</td>\n",
       "      <td>3000.000000</td>\n",
       "      <td>3000.000000</td>\n",
       "      <td>3000.000000</td>\n",
       "      <td>3000.000000</td>\n",
       "      <td>3000.000000</td>\n",
       "      <td>3000.000000</td>\n",
       "      <td>3000.000000</td>\n",
       "      <td>3000.000000</td>\n",
       "      <td>3000.000000</td>\n",
       "      <td>3000.000000</td>\n",
       "    </tr>\n",
       "    <tr>\n",
       "      <th>mean</th>\n",
       "      <td>0.001297</td>\n",
       "      <td>0.003270</td>\n",
       "      <td>0.003727</td>\n",
       "      <td>0.002897</td>\n",
       "      <td>0.002072</td>\n",
       "      <td>0.003581</td>\n",
       "      <td>0.009205</td>\n",
       "      <td>0.00338</td>\n",
       "      <td>0.003274</td>\n",
       "      <td>0.002857</td>\n",
       "      <td>...</td>\n",
       "      <td>0.001979</td>\n",
       "      <td>0.001668</td>\n",
       "      <td>0.002398</td>\n",
       "      <td>0.002001</td>\n",
       "      <td>0.004207</td>\n",
       "      <td>0.001724</td>\n",
       "      <td>0.001723</td>\n",
       "      <td>0.002163</td>\n",
       "      <td>0.004017</td>\n",
       "      <td>0.002204</td>\n",
       "    </tr>\n",
       "    <tr>\n",
       "      <th>std</th>\n",
       "      <td>0.017138</td>\n",
       "      <td>0.033325</td>\n",
       "      <td>0.034408</td>\n",
       "      <td>0.031421</td>\n",
       "      <td>0.026597</td>\n",
       "      <td>0.038028</td>\n",
       "      <td>0.056224</td>\n",
       "      <td>0.03983</td>\n",
       "      <td>0.037338</td>\n",
       "      <td>0.030943</td>\n",
       "      <td>...</td>\n",
       "      <td>0.026802</td>\n",
       "      <td>0.028535</td>\n",
       "      <td>0.027045</td>\n",
       "      <td>0.026130</td>\n",
       "      <td>0.034597</td>\n",
       "      <td>0.022983</td>\n",
       "      <td>0.024434</td>\n",
       "      <td>0.026514</td>\n",
       "      <td>0.032773</td>\n",
       "      <td>0.028358</td>\n",
       "    </tr>\n",
       "    <tr>\n",
       "      <th>min</th>\n",
       "      <td>0.000000</td>\n",
       "      <td>0.000000</td>\n",
       "      <td>0.000000</td>\n",
       "      <td>0.000000</td>\n",
       "      <td>0.000000</td>\n",
       "      <td>0.000000</td>\n",
       "      <td>0.000000</td>\n",
       "      <td>0.00000</td>\n",
       "      <td>0.000000</td>\n",
       "      <td>0.000000</td>\n",
       "      <td>...</td>\n",
       "      <td>0.000000</td>\n",
       "      <td>0.000000</td>\n",
       "      <td>0.000000</td>\n",
       "      <td>0.000000</td>\n",
       "      <td>0.000000</td>\n",
       "      <td>0.000000</td>\n",
       "      <td>0.000000</td>\n",
       "      <td>0.000000</td>\n",
       "      <td>0.000000</td>\n",
       "      <td>0.000000</td>\n",
       "    </tr>\n",
       "    <tr>\n",
       "      <th>25%</th>\n",
       "      <td>0.000000</td>\n",
       "      <td>0.000000</td>\n",
       "      <td>0.000000</td>\n",
       "      <td>0.000000</td>\n",
       "      <td>0.000000</td>\n",
       "      <td>0.000000</td>\n",
       "      <td>0.000000</td>\n",
       "      <td>0.00000</td>\n",
       "      <td>0.000000</td>\n",
       "      <td>0.000000</td>\n",
       "      <td>...</td>\n",
       "      <td>0.000000</td>\n",
       "      <td>0.000000</td>\n",
       "      <td>0.000000</td>\n",
       "      <td>0.000000</td>\n",
       "      <td>0.000000</td>\n",
       "      <td>0.000000</td>\n",
       "      <td>0.000000</td>\n",
       "      <td>0.000000</td>\n",
       "      <td>0.000000</td>\n",
       "      <td>0.000000</td>\n",
       "    </tr>\n",
       "    <tr>\n",
       "      <th>50%</th>\n",
       "      <td>0.000000</td>\n",
       "      <td>0.000000</td>\n",
       "      <td>0.000000</td>\n",
       "      <td>0.000000</td>\n",
       "      <td>0.000000</td>\n",
       "      <td>0.000000</td>\n",
       "      <td>0.000000</td>\n",
       "      <td>0.00000</td>\n",
       "      <td>0.000000</td>\n",
       "      <td>0.000000</td>\n",
       "      <td>...</td>\n",
       "      <td>0.000000</td>\n",
       "      <td>0.000000</td>\n",
       "      <td>0.000000</td>\n",
       "      <td>0.000000</td>\n",
       "      <td>0.000000</td>\n",
       "      <td>0.000000</td>\n",
       "      <td>0.000000</td>\n",
       "      <td>0.000000</td>\n",
       "      <td>0.000000</td>\n",
       "      <td>0.000000</td>\n",
       "    </tr>\n",
       "    <tr>\n",
       "      <th>75%</th>\n",
       "      <td>0.000000</td>\n",
       "      <td>0.000000</td>\n",
       "      <td>0.000000</td>\n",
       "      <td>0.000000</td>\n",
       "      <td>0.000000</td>\n",
       "      <td>0.000000</td>\n",
       "      <td>0.000000</td>\n",
       "      <td>0.00000</td>\n",
       "      <td>0.000000</td>\n",
       "      <td>0.000000</td>\n",
       "      <td>...</td>\n",
       "      <td>0.000000</td>\n",
       "      <td>0.000000</td>\n",
       "      <td>0.000000</td>\n",
       "      <td>0.000000</td>\n",
       "      <td>0.000000</td>\n",
       "      <td>0.000000</td>\n",
       "      <td>0.000000</td>\n",
       "      <td>0.000000</td>\n",
       "      <td>0.000000</td>\n",
       "      <td>0.000000</td>\n",
       "    </tr>\n",
       "    <tr>\n",
       "      <th>max</th>\n",
       "      <td>0.360986</td>\n",
       "      <td>0.630162</td>\n",
       "      <td>0.569686</td>\n",
       "      <td>0.587572</td>\n",
       "      <td>0.596276</td>\n",
       "      <td>1.000000</td>\n",
       "      <td>1.000000</td>\n",
       "      <td>1.00000</td>\n",
       "      <td>0.916398</td>\n",
       "      <td>0.487791</td>\n",
       "      <td>...</td>\n",
       "      <td>0.575832</td>\n",
       "      <td>1.000000</td>\n",
       "      <td>0.587532</td>\n",
       "      <td>0.689178</td>\n",
       "      <td>0.708955</td>\n",
       "      <td>0.452310</td>\n",
       "      <td>0.704904</td>\n",
       "      <td>0.549760</td>\n",
       "      <td>0.553449</td>\n",
       "      <td>0.598659</td>\n",
       "    </tr>\n",
       "  </tbody>\n",
       "</table>\n",
       "<p>8 rows × 822 columns</p>\n",
       "</div>"
      ],
      "text/plain": [
       "               0            1            2            3            4    \\\n",
       "count  3000.000000  3000.000000  3000.000000  3000.000000  3000.000000   \n",
       "mean      0.001297     0.003270     0.003727     0.002897     0.002072   \n",
       "std       0.017138     0.033325     0.034408     0.031421     0.026597   \n",
       "min       0.000000     0.000000     0.000000     0.000000     0.000000   \n",
       "25%       0.000000     0.000000     0.000000     0.000000     0.000000   \n",
       "50%       0.000000     0.000000     0.000000     0.000000     0.000000   \n",
       "75%       0.000000     0.000000     0.000000     0.000000     0.000000   \n",
       "max       0.360986     0.630162     0.569686     0.587572     0.596276   \n",
       "\n",
       "               5            6           7            8            9    \\\n",
       "count  3000.000000  3000.000000  3000.00000  3000.000000  3000.000000   \n",
       "mean      0.003581     0.009205     0.00338     0.003274     0.002857   \n",
       "std       0.038028     0.056224     0.03983     0.037338     0.030943   \n",
       "min       0.000000     0.000000     0.00000     0.000000     0.000000   \n",
       "25%       0.000000     0.000000     0.00000     0.000000     0.000000   \n",
       "50%       0.000000     0.000000     0.00000     0.000000     0.000000   \n",
       "75%       0.000000     0.000000     0.00000     0.000000     0.000000   \n",
       "max       1.000000     1.000000     1.00000     0.916398     0.487791   \n",
       "\n",
       "          ...               812          813          814          815  \\\n",
       "count     ...       3000.000000  3000.000000  3000.000000  3000.000000   \n",
       "mean      ...          0.001979     0.001668     0.002398     0.002001   \n",
       "std       ...          0.026802     0.028535     0.027045     0.026130   \n",
       "min       ...          0.000000     0.000000     0.000000     0.000000   \n",
       "25%       ...          0.000000     0.000000     0.000000     0.000000   \n",
       "50%       ...          0.000000     0.000000     0.000000     0.000000   \n",
       "75%       ...          0.000000     0.000000     0.000000     0.000000   \n",
       "max       ...          0.575832     1.000000     0.587532     0.689178   \n",
       "\n",
       "               816          817          818          819          820  \\\n",
       "count  3000.000000  3000.000000  3000.000000  3000.000000  3000.000000   \n",
       "mean      0.004207     0.001724     0.001723     0.002163     0.004017   \n",
       "std       0.034597     0.022983     0.024434     0.026514     0.032773   \n",
       "min       0.000000     0.000000     0.000000     0.000000     0.000000   \n",
       "25%       0.000000     0.000000     0.000000     0.000000     0.000000   \n",
       "50%       0.000000     0.000000     0.000000     0.000000     0.000000   \n",
       "75%       0.000000     0.000000     0.000000     0.000000     0.000000   \n",
       "max       0.708955     0.452310     0.704904     0.549760     0.553449   \n",
       "\n",
       "               821  \n",
       "count  3000.000000  \n",
       "mean      0.002204  \n",
       "std       0.028358  \n",
       "min       0.000000  \n",
       "25%       0.000000  \n",
       "50%       0.000000  \n",
       "75%       0.000000  \n",
       "max       0.598659  \n",
       "\n",
       "[8 rows x 822 columns]"
      ]
     },
     "execution_count": 7,
     "metadata": {},
     "output_type": "execute_result"
    }
   ],
   "source": [
    "X.describe()"
   ]
  },
  {
   "cell_type": "markdown",
   "metadata": {},
   "source": [
    "X contient l'ensemble des données pour les 822 éléments tfidf bigram et pour le 3000 reviews"
   ]
  },
  {
   "cell_type": "code",
   "execution_count": 8,
   "metadata": {
    "collapsed": false
   },
   "outputs": [
    {
     "data": {
      "text/plain": [
       "count     3000\n",
       "unique       2\n",
       "top         -1\n",
       "freq      1500\n",
       "Name: target, dtype: object"
      ]
     },
     "execution_count": 8,
     "metadata": {},
     "output_type": "execute_result"
    }
   ],
   "source": [
    "y.describe()"
   ]
  },
  {
   "cell_type": "markdown",
   "metadata": {},
   "source": [
    "y contient bien les résultats +1 pour une review positive, -1 pour une review négative"
   ]
  },
  {
   "cell_type": "markdown",
   "metadata": {},
   "source": [
    "#### AFFICHAGE\n",
    "On affiche en lignes les différentes reviews et en colonnes les différents termes et leur score tfidf\n",
    "Dans le graphique ci-dessous, les données sont triées sur les 30 premiers termes les plus fréquents dans les reviews, projetés sur les 30 premières reviews"
   ]
  },
  {
   "cell_type": "code",
   "execution_count": 9,
   "metadata": {
    "collapsed": false
   },
   "outputs": [
    {
     "data": {
      "image/png": "[encoded data removed]",
      "text/plain": [
       "<matplotlib.figure.Figure at 0x1d807b2eac8>"
      ]
     },
     "metadata": {},
     "output_type": "display_data"
    }
   ],
   "source": [
    "sns.set()\n",
    "X2 = sorted(X.columns,key = lambda t:len(X[X[t]>0][t]),reverse = True)\n",
    "X2 = X.reindex_axis(X2,axis = 1)\n",
    "plt.figure(figsize = (20,15))\n",
    "ax = sns.heatmap(np.array(X2.iloc[:30,:30]),cmap=\"Blues\")"
   ]
  },
  {
   "cell_type": "markdown",
   "metadata": {},
   "source": [
    "### 3. Classification non-supervisée\n",
    "#### CLUSTERING K-MEANS\n",
    "Une première approche pour explorer le dataset est de réaliser un classification non supervisée par un clustering pour essayer de retrouver les deux clusters : reviews positives et négatives"
   ]
  },
  {
   "cell_type": "code",
   "execution_count": 10,
   "metadata": {
    "collapsed": false
   },
   "outputs": [
    {
     "data": {
      "text/html": [
       "<div>\n",
       "<table border=\"1\" class=\"dataframe\">\n",
       "  <thead>\n",
       "    <tr style=\"text-align: right;\">\n",
       "      <th>target</th>\n",
       "      <th>-1</th>\n",
       "      <th>1</th>\n",
       "    </tr>\n",
       "    <tr>\n",
       "      <th>row_0</th>\n",
       "      <th></th>\n",
       "      <th></th>\n",
       "    </tr>\n",
       "  </thead>\n",
       "  <tbody>\n",
       "    <tr>\n",
       "      <th>0</th>\n",
       "      <td>1011</td>\n",
       "      <td>1088</td>\n",
       "    </tr>\n",
       "    <tr>\n",
       "      <th>1</th>\n",
       "      <td>489</td>\n",
       "      <td>412</td>\n",
       "    </tr>\n",
       "  </tbody>\n",
       "</table>\n",
       "</div>"
      ],
      "text/plain": [
       "target    -1     1\n",
       "row_0             \n",
       "0       1011  1088\n",
       "1        489   412"
      ]
     },
     "execution_count": 10,
     "metadata": {},
     "output_type": "execute_result"
    }
   ],
   "source": [
    "from sklearn.cluster import KMeans\n",
    "from sklearn import metrics\n",
    "\n",
    "name = 'kmeans1'\n",
    "kmeans_model = KMeans(n_clusters = 2,random_state = 1).fit(X)\n",
    "labels = kmeans_model.labels_\n",
    "z[name] = labels\n",
    "pd.crosstab(labels,y)"
   ]
  },
  {
   "cell_type": "markdown",
   "metadata": {},
   "source": [
    "On remarque qu'un KMeans simple **ne permet pas** de retrouver les deux clusters\n",
    "\n",
    "Affichons ce qu'il se passe pour mieux comprendre avec une PCA"
   ]
  },
  {
   "cell_type": "code",
   "execution_count": 11,
   "metadata": {
    "collapsed": false
   },
   "outputs": [
    {
     "data": {
      "image/png": "[encoded data removed]",
      "text/plain": [
       "<matplotlib.figure.Figure at 0x1d808f5e470>"
      ]
     },
     "metadata": {},
     "output_type": "display_data"
    },
    {
     "data": {
      "image/png": "[encoded data removed]",
      "text/plain": [
       "<matplotlib.figure.Figure at 0x1d809428f60>"
      ]
     },
     "metadata": {},
     "output_type": "display_data"
    }
   ],
   "source": [
    "from sklearn.decomposition import PCA\n",
    "#On utilise la PCA pour afficher les clusters sur un graphique\n",
    "pca_2 = PCA(2)\n",
    "plot_columns = pca_2.fit_transform(X)\n",
    "plt.figure(figsize = (15,10))\n",
    "plt.scatter(x=plot_columns[:,0],y=plot_columns[:,1],c=y,cmap = 'coolwarm')\n",
    "plt.show()\n",
    "plt.figure(figsize = (15,10))\n",
    "plt.scatter(x=plot_columns[:,0],y=plot_columns[:,1],c=z['kmeans1'],cmap = 'coolwarm')\n",
    "plt.show()"
   ]
  },
  {
   "cell_type": "markdown",
   "metadata": {},
   "source": [
    "On remarque qu'un clustering KMeans simple n'est pas du tout approprié, basé sur les distances des labels"
   ]
  },
  {
   "cell_type": "markdown",
   "metadata": {},
   "source": [
    "#### AUTRES ALGORITHMES DE CLUSTERING\n",
    "##### MiniBatch KMeans"
   ]
  },
  {
   "cell_type": "code",
   "execution_count": 12,
   "metadata": {
    "collapsed": false
   },
   "outputs": [
    {
     "data": {
      "text/html": [
       "<div>\n",
       "<table border=\"1\" class=\"dataframe\">\n",
       "  <thead>\n",
       "    <tr style=\"text-align: right;\">\n",
       "      <th>target</th>\n",
       "      <th>-1</th>\n",
       "      <th>1</th>\n",
       "    </tr>\n",
       "    <tr>\n",
       "      <th>row_0</th>\n",
       "      <th></th>\n",
       "      <th></th>\n",
       "    </tr>\n",
       "  </thead>\n",
       "  <tbody>\n",
       "    <tr>\n",
       "      <th>0</th>\n",
       "      <td>902</td>\n",
       "      <td>734</td>\n",
       "    </tr>\n",
       "    <tr>\n",
       "      <th>1</th>\n",
       "      <td>598</td>\n",
       "      <td>766</td>\n",
       "    </tr>\n",
       "  </tbody>\n",
       "</table>\n",
       "</div>"
      ],
      "text/plain": [
       "target   -1    1\n",
       "row_0           \n",
       "0       902  734\n",
       "1       598  766"
      ]
     },
     "execution_count": 12,
     "metadata": {},
     "output_type": "execute_result"
    }
   ],
   "source": [
    "from sklearn.cluster import MiniBatchKMeans\n",
    "kmeans_model = MiniBatchKMeans(n_clusters = 2,random_state = 1).fit(X)\n",
    "labels = kmeans_model.labels_\n",
    "pd.crosstab(labels,y)"
   ]
  },
  {
   "cell_type": "markdown",
   "metadata": {},
   "source": [
    "##### Spectral Clustering"
   ]
  },
  {
   "cell_type": "code",
   "execution_count": 13,
   "metadata": {
    "collapsed": false
   },
   "outputs": [
    {
     "data": {
      "text/html": [
       "<div>\n",
       "<table border=\"1\" class=\"dataframe\">\n",
       "  <thead>\n",
       "    <tr style=\"text-align: right;\">\n",
       "      <th>target</th>\n",
       "      <th>-1</th>\n",
       "      <th>1</th>\n",
       "    </tr>\n",
       "    <tr>\n",
       "      <th>row_0</th>\n",
       "      <th></th>\n",
       "      <th></th>\n",
       "    </tr>\n",
       "  </thead>\n",
       "  <tbody>\n",
       "    <tr>\n",
       "      <th>0</th>\n",
       "      <td>721</td>\n",
       "      <td>554</td>\n",
       "    </tr>\n",
       "    <tr>\n",
       "      <th>1</th>\n",
       "      <td>779</td>\n",
       "      <td>946</td>\n",
       "    </tr>\n",
       "  </tbody>\n",
       "</table>\n",
       "</div>"
      ],
      "text/plain": [
       "target   -1    1\n",
       "row_0           \n",
       "0       721  554\n",
       "1       779  946"
      ]
     },
     "execution_count": 13,
     "metadata": {},
     "output_type": "execute_result"
    }
   ],
   "source": [
    "from sklearn.cluster import SpectralClustering\n",
    "kmeans_model = SpectralClustering(n_clusters = 2,random_state = 1).fit(X)\n",
    "labels = kmeans_model.labels_\n",
    "pd.crosstab(labels,y)"
   ]
  },
  {
   "cell_type": "markdown",
   "metadata": {},
   "source": [
    "Les différents algorithmes de clustering ne permettent pas d'obtenir une séparation intéressante.\n",
    "\n",
    "Il faut donc passer à une classification supervisée."
   ]
  },
  {
   "cell_type": "markdown",
   "metadata": {},
   "source": [
    "***\n",
    "### 4. Classification supervisée"
   ]
  },
  {
   "cell_type": "markdown",
   "metadata": {},
   "source": [
    "On va tester différents classifiers pour le moment toujours sur le dataset bigram\n",
    "\n",
    "Pour cela on va réaliser une fonction qui permet de tester en validation croisée la précision du classifier"
   ]
  },
  {
   "cell_type": "code",
   "execution_count": 14,
   "metadata": {
    "collapsed": false
   },
   "outputs": [
    {
     "name": "stdout",
     "output_type": "stream",
     "text": [
      "Linear SVM - cross val score : 0.745\n"
     ]
    }
   ],
   "source": [
    "from sklearn.svm import LinearSVC\n",
    "from sklearn.cross_validation import cross_val_score\n",
    "\n",
    "clf = LinearSVC(C=1)\n",
    "clf.fit(X,y)\n",
    "\n",
    "def scores(clf,X,y,title = '',show_scores = True,graph = False,training_score = False):\n",
    "    if training_score:\n",
    "        print(\"Score d'entrainement:\",clf.score(X,y))\n",
    "    scores = list(cross_val_score(clf,X,y,cv = 5))\n",
    "    scores = sum(scores)/len(scores)\n",
    "    if show_scores:\n",
    "        print(title + ' - cross val score : {0}'.format(round(scores,3)))\n",
    "    else:\n",
    "        return scores\n",
    "    if graph:\n",
    "        Xp = clf.predict(X)\n",
    "        pca_2 = PCA(2)\n",
    "        plot_columns = pca_2.fit_transform(X)\n",
    "        plt.figure(figsize = (15,5))\n",
    "        plt.scatter(x=plot_columns[:,0],y=plot_columns[:,1],c=Xp)\n",
    "        plt.title(title)\n",
    "        plt.show()\n",
    "    \n",
    "scores(clf,X,y,'Linear SVM')"
   ]
  },
  {
   "cell_type": "markdown",
   "metadata": {},
   "source": [
    "Ci-dessous les différents classifiers que nous allons utiliser"
   ]
  },
  {
   "cell_type": "code",
   "execution_count": 15,
   "metadata": {
    "collapsed": false
   },
   "outputs": [],
   "source": [
    "from sklearn import naive_bayes\n",
    "from sklearn.linear_model import LogisticRegression\n",
    "from sklearn.ensemble import RandomForestClassifier\n",
    "from sklearn.ensemble import GradientBoostingClassifier\n",
    "from sklearn.svm import LinearSVC\n",
    "from sklearn.svm import SVC\n",
    "from sklearn.neighbors import KNeighborsClassifier\n",
    "from sklearn.tree import DecisionTreeClassifier\n",
    "\n",
    "#CLASSIFIER\n",
    "classifiers = [\n",
    "    ('Naive Bayes Multinomial',naive_bayes.MultinomialNB(fit_prior = True)),\n",
    "    ('Naive Bayes Gaussian',naive_bayes.GaussianNB()),\n",
    "    ('Logistic Regression',LogisticRegression()),\n",
    "    ('Linear SVC',LinearSVC(C=1.0)),\n",
    "    ('Random Forest',RandomForestClassifier(n_estimators=30,min_samples_leaf = 1,min_samples_split = 10)),\n",
    "    ('Gradient Boosting',GradientBoostingClassifier(random_state=1, n_estimators=50, max_depth=30)),\n",
    "    ('KNeighbors',KNeighborsClassifier()),\n",
    "    ('SVC',SVC(gamma=2, C=1)),\n",
    "    ('Decision Tree',DecisionTreeClassifier()),\n",
    "]\n"
   ]
  },
  {
   "cell_type": "markdown",
   "metadata": {},
   "source": [
    "#### PREMIERS RESULTATS"
   ]
  },
  {
   "cell_type": "code",
   "execution_count": 16,
   "metadata": {
    "collapsed": false
   },
   "outputs": [
    {
     "name": "stdout",
     "output_type": "stream",
     "text": [
      "Naive Bayes Multinomial - cross val score : 0.773\n",
      "Naive Bayes Gaussian - cross val score : 0.75\n",
      "Logistic Regression - cross val score : 0.762\n",
      "Linear SVC - cross val score : 0.745\n",
      "Random Forest - cross val score : 0.725\n",
      "Gradient Boosting - cross val score : 0.719\n",
      "KNeighbors - cross val score : 0.695\n",
      "SVC - cross val score : 0.756\n",
      "Decision Tree - cross val score : 0.668\n"
     ]
    }
   ],
   "source": [
    "for name,clf in classifiers:\n",
    "    scores(clf,X,y,name)"
   ]
  },
  {
   "cell_type": "markdown",
   "metadata": {},
   "source": [
    "Globalement les meilleurs classifiers en validation croisée sont : \n",
    "- Naive Bayes multinomial et gaussien\n",
    "- SVM\n",
    "- Logistic Regression\n",
    "\n",
    "Les meilleurs paramètres des classifiers suivants ont été trouvés par itération ci-dessous : \n",
    "- Random Forest\n",
    "- Gradient Boosting\n",
    "- Logistic Regression"
   ]
  },
  {
   "cell_type": "markdown",
   "metadata": {},
   "source": [
    "#### DETERMINATION DES MEILLEURS PARAMETRES POUR CERTAINS CLASSIFIERS\n",
    "##### Random Forest"
   ]
  },
  {
   "cell_type": "code",
   "execution_count": 17,
   "metadata": {
    "collapsed": false
   },
   "outputs": [
    {
     "name": "stdout",
     "output_type": "stream",
     "text": [
      " - cross val score : 0.72\n",
      " - cross val score : 0.724\n",
      " - cross val score : 0.73\n",
      " - cross val score : 0.731\n",
      " - cross val score : 0.73\n",
      " - cross val score : 0.741\n",
      " - cross val score : 0.729\n",
      " - cross val score : 0.731\n",
      " - cross val score : 0.736\n"
     ]
    }
   ],
   "source": [
    "#Variation du nombre d'estimateurs\n",
    "for i in range(10,100,10):\n",
    "    clf = RandomForestClassifier(n_estimators=i,min_samples_leaf = 5,min_samples_split = 50)\n",
    "    scores(clf,X,y)"
   ]
  },
  {
   "cell_type": "code",
   "execution_count": 18,
   "metadata": {
    "collapsed": false
   },
   "outputs": [
    {
     "name": "stdout",
     "output_type": "stream",
     "text": [
      " - cross val score : 0.729\n",
      " - cross val score : 0.732\n",
      " - cross val score : 0.711\n",
      " - cross val score : 0.695\n",
      " - cross val score : 0.674\n",
      " - cross val score : 0.661\n",
      " - cross val score : 0.639\n",
      " - cross val score : 0.629\n",
      " - cross val score : 0.616\n",
      " - cross val score : 0.581\n"
     ]
    }
   ],
   "source": [
    "#Variation de min_sample_leaf\n",
    "for i in range(1,50,5):\n",
    "    clf = RandomForestClassifier(n_estimators=30,min_samples_leaf = i,min_samples_split = 5)\n",
    "    scores(clf,X,y)"
   ]
  },
  {
   "cell_type": "code",
   "execution_count": 19,
   "metadata": {
    "collapsed": false
   },
   "outputs": [
    {
     "name": "stdout",
     "output_type": "stream",
     "text": [
      " - cross val score : 0.724\n",
      " - cross val score : 0.722\n",
      " - cross val score : 0.728\n",
      " - cross val score : 0.73\n",
      " - cross val score : 0.724\n",
      " - cross val score : 0.728\n",
      " - cross val score : 0.722\n",
      " - cross val score : 0.723\n",
      " - cross val score : 0.726\n"
     ]
    }
   ],
   "source": [
    "#Variation de min_sample_leaf\n",
    "for i in range(5,50,5):\n",
    "    clf = RandomForestClassifier(n_estimators=30,min_samples_leaf = 5,min_samples_split = i)\n",
    "    scores(clf,X,y)"
   ]
  },
  {
   "cell_type": "markdown",
   "metadata": {},
   "source": [
    "Le meilleur paramétrage est ainsi : \n",
    "- 30 estimateurs\n",
    "- 1 feuille au minimum dans l'échantillon\n",
    "- 10 feuilles pour split"
   ]
  },
  {
   "cell_type": "markdown",
   "metadata": {
    "collapsed": true
   },
   "source": [
    "##### Gradient Boosting"
   ]
  },
  {
   "cell_type": "code",
   "execution_count": 20,
   "metadata": {
    "collapsed": false
   },
   "outputs": [
    {
     "name": "stdout",
     "output_type": "stream",
     "text": [
      " - cross val score : 0.661\n",
      " - cross val score : 0.687\n",
      " - cross val score : 0.704\n",
      " - cross val score : 0.706\n",
      " - cross val score : 0.712\n",
      " - cross val score : 0.711\n",
      " - cross val score : 0.714\n",
      " - cross val score : 0.713\n",
      " - cross val score : 0.713\n"
     ]
    }
   ],
   "source": [
    "#Variation du nombre d'estimateurs\n",
    "for i in range(10,100,10):\n",
    "    clf = GradientBoostingClassifier(random_state=1, n_estimators=i, max_depth=10)\n",
    "    scores(clf,X,y)"
   ]
  },
  {
   "cell_type": "code",
   "execution_count": 21,
   "metadata": {
    "collapsed": false
   },
   "outputs": [
    {
     "name": "stdout",
     "output_type": "stream",
     "text": [
      " - cross val score : 0.694\n",
      " - cross val score : 0.712\n",
      " - cross val score : 0.71\n",
      " - cross val score : 0.716\n",
      " - cross val score : 0.714\n",
      " - cross val score : 0.719\n",
      " - cross val score : 0.712\n",
      " - cross val score : 0.712\n",
      " - cross val score : 0.705\n"
     ]
    }
   ],
   "source": [
    "#Variation de la profondeur maximale\n",
    "for i in range(5,50,5):\n",
    "    clf = GradientBoostingClassifier(random_state=1, n_estimators=50, max_depth=i)\n",
    "    scores(clf,X,y)"
   ]
  },
  {
   "cell_type": "markdown",
   "metadata": {},
   "source": [
    "Le meilleur paramétrage est ainsi : \n",
    "- 50 estimateurs\n",
    "- 30 en profondeur"
   ]
  },
  {
   "cell_type": "markdown",
   "metadata": {},
   "source": [
    "##### Logistic Regression"
   ]
  },
  {
   "cell_type": "code",
   "execution_count": 22,
   "metadata": {
    "collapsed": false
   },
   "outputs": [
    {
     "name": "stdout",
     "output_type": "stream",
     "text": [
      "0.001 - cross val score : 0.742\n",
      "0.01 - cross val score : 0.743\n",
      "0.1 - cross val score : 0.747\n",
      "1 - cross val score : 0.762\n",
      "10 - cross val score : 0.75\n",
      "100 - cross val score : 0.725\n",
      "1000 - cross val score : 0.698\n",
      "10000 - cross val score : 0.693\n"
     ]
    }
   ],
   "source": [
    "for C in [10**x for x in range(-3,5)]:\n",
    "    clf = LogisticRegression(C = C)\n",
    "    scores(clf,X,y,str(C))"
   ]
  },
  {
   "cell_type": "markdown",
   "metadata": {},
   "source": [
    "C = 1 est le meilleur paramétrage"
   ]
  },
  {
   "cell_type": "markdown",
   "metadata": {},
   "source": [
    "#### PREMIERE CONCLUSION\n",
    "\n",
    "On peut atteindre une précision d'environ 75% en validation croisée avec les meilleurs classifiers. Ce score peut cependant être optimisé en prenant en compte :\n",
    "- **une combinaison des différents classifiers**\n",
    "- **une combinaison des différents datasets**"
   ]
  },
  {
   "cell_type": "markdown",
   "metadata": {},
   "source": [
    "***\n",
    "### 5. Combinaison des différents classifiers\n",
    "Il pourrait être intéressant de combiner les meilleurs classifiers et de prendre la moyenne des résultats\n",
    "\n",
    "C'est à dire qu'on prédit avec plusieurs classifiers et on prend la moyenne des résultats, cela permet d'annuler les imperfections de certains modèles\n",
    "\n",
    "Il faut ainsi confectionner un set de test et d'entraînement"
   ]
  },
  {
   "cell_type": "code",
   "execution_count": 23,
   "metadata": {
    "collapsed": false
   },
   "outputs": [],
   "source": [
    "from sklearn.cross_validation import train_test_split\n",
    "X1,X2,y1,y2 = train_test_split(X,y,test_size = 0.3,random_state = None)"
   ]
  },
  {
   "cell_type": "code",
   "execution_count": 24,
   "metadata": {
    "collapsed": false
   },
   "outputs": [
    {
     "data": {
      "text/plain": [
       "1     1059\n",
       "-1    1041\n",
       "Name: target, dtype: int64"
      ]
     },
     "execution_count": 24,
     "metadata": {},
     "output_type": "execute_result"
    }
   ],
   "source": [
    "#la distribution est assez bien respectée\n",
    "y1.value_counts()"
   ]
  },
  {
   "cell_type": "code",
   "execution_count": 25,
   "metadata": {
    "collapsed": false
   },
   "outputs": [
    {
     "data": {
      "text/plain": [
       "MultinomialNB(alpha=1.0, class_prior=None, fit_prior=True)"
      ]
     },
     "execution_count": 25,
     "metadata": {},
     "output_type": "execute_result"
    }
   ],
   "source": [
    "clf = classifiers[0][1] #multinomial\n",
    "clf.fit(X1,y1)"
   ]
  },
  {
   "cell_type": "markdown",
   "metadata": {},
   "source": [
    "Pour calculer le score de précision, il faut programmer une fonction qui teste le score apparent"
   ]
  },
  {
   "cell_type": "code",
   "execution_count": 26,
   "metadata": {
    "collapsed": false
   },
   "outputs": [
    {
     "name": "stdout",
     "output_type": "stream",
     "text": [
      "0.791111111111\n",
      "0.7911111111111111\n"
     ]
    }
   ],
   "source": [
    "prediction = clf.predict(X2)\n",
    "print(clf.score(X2,y2))\n",
    "\n",
    "def precision(prediction,reel):\n",
    "    score = 0\n",
    "    for i in range(len(prediction)):\n",
    "        if prediction[i] == list(reel)[i]:\n",
    "            score += 1\n",
    "    return score/len(prediction)\n",
    "\n",
    "print(precision(prediction,y2))"
   ]
  },
  {
   "cell_type": "markdown",
   "metadata": {},
   "source": [
    "On construit le dataset comprenant l'ensemble des prédictions"
   ]
  },
  {
   "cell_type": "code",
   "execution_count": 27,
   "metadata": {
    "collapsed": false
   },
   "outputs": [
    {
     "name": "stdout",
     "output_type": "stream",
     "text": [
      "Naive Bayes Multinomial  -  0.791111111111\n",
      "Naive Bayes Gaussian  -  0.737777777778\n",
      "Logistic Regression  -  0.78\n",
      "Linear SVC  -  0.77\n",
      "Random Forest  -  0.732222222222\n",
      "Gradient Boosting  -  0.713333333333\n",
      "KNeighbors  -  0.667777777778\n",
      "SVC  -  0.771111111111\n",
      "Decision Tree  -  0.671111111111\n"
     ]
    }
   ],
   "source": [
    "combinaison = pd.DataFrame()\n",
    "\n",
    "for name,clf in classifiers:\n",
    "    clf.fit(X1,y1)\n",
    "    combinaison[name] = clf.predict(X2)\n",
    "    print(name,\" - \",clf.score(X2,y2))"
   ]
  },
  {
   "cell_type": "code",
   "execution_count": 28,
   "metadata": {
    "collapsed": false
   },
   "outputs": [
    {
     "data": {
      "text/html": [
       "<div>\n",
       "<table border=\"1\" class=\"dataframe\">\n",
       "  <thead>\n",
       "    <tr style=\"text-align: right;\">\n",
       "      <th></th>\n",
       "      <th>Naive Bayes Multinomial</th>\n",
       "      <th>Naive Bayes Gaussian</th>\n",
       "      <th>Logistic Regression</th>\n",
       "      <th>Linear SVC</th>\n",
       "      <th>Random Forest</th>\n",
       "      <th>Gradient Boosting</th>\n",
       "      <th>KNeighbors</th>\n",
       "      <th>SVC</th>\n",
       "      <th>Decision Tree</th>\n",
       "    </tr>\n",
       "  </thead>\n",
       "  <tbody>\n",
       "    <tr>\n",
       "      <th>0</th>\n",
       "      <td>1</td>\n",
       "      <td>1</td>\n",
       "      <td>1</td>\n",
       "      <td>1</td>\n",
       "      <td>1</td>\n",
       "      <td>1</td>\n",
       "      <td>1</td>\n",
       "      <td>1</td>\n",
       "      <td>1</td>\n",
       "    </tr>\n",
       "    <tr>\n",
       "      <th>1</th>\n",
       "      <td>-1</td>\n",
       "      <td>-1</td>\n",
       "      <td>-1</td>\n",
       "      <td>-1</td>\n",
       "      <td>-1</td>\n",
       "      <td>-1</td>\n",
       "      <td>-1</td>\n",
       "      <td>-1</td>\n",
       "      <td>-1</td>\n",
       "    </tr>\n",
       "    <tr>\n",
       "      <th>2</th>\n",
       "      <td>-1</td>\n",
       "      <td>-1</td>\n",
       "      <td>-1</td>\n",
       "      <td>-1</td>\n",
       "      <td>-1</td>\n",
       "      <td>-1</td>\n",
       "      <td>-1</td>\n",
       "      <td>-1</td>\n",
       "      <td>1</td>\n",
       "    </tr>\n",
       "    <tr>\n",
       "      <th>3</th>\n",
       "      <td>1</td>\n",
       "      <td>1</td>\n",
       "      <td>1</td>\n",
       "      <td>1</td>\n",
       "      <td>1</td>\n",
       "      <td>1</td>\n",
       "      <td>1</td>\n",
       "      <td>1</td>\n",
       "      <td>-1</td>\n",
       "    </tr>\n",
       "    <tr>\n",
       "      <th>4</th>\n",
       "      <td>-1</td>\n",
       "      <td>-1</td>\n",
       "      <td>-1</td>\n",
       "      <td>-1</td>\n",
       "      <td>1</td>\n",
       "      <td>-1</td>\n",
       "      <td>-1</td>\n",
       "      <td>-1</td>\n",
       "      <td>1</td>\n",
       "    </tr>\n",
       "  </tbody>\n",
       "</table>\n",
       "</div>"
      ],
      "text/plain": [
       "  Naive Bayes Multinomial Naive Bayes Gaussian Logistic Regression Linear SVC  \\\n",
       "0                       1                    1                   1          1   \n",
       "1                      -1                   -1                  -1         -1   \n",
       "2                      -1                   -1                  -1         -1   \n",
       "3                       1                    1                   1          1   \n",
       "4                      -1                   -1                  -1         -1   \n",
       "\n",
       "  Random Forest Gradient Boosting KNeighbors SVC Decision Tree  \n",
       "0             1                 1          1   1             1  \n",
       "1            -1                -1         -1  -1            -1  \n",
       "2            -1                -1         -1  -1             1  \n",
       "3             1                 1          1   1            -1  \n",
       "4             1                -1         -1  -1             1  "
      ]
     },
     "execution_count": 28,
     "metadata": {},
     "output_type": "execute_result"
    }
   ],
   "source": [
    "combinaison.head()"
   ]
  },
  {
   "cell_type": "markdown",
   "metadata": {},
   "source": [
    "On va moyenner sur le tableau de résultat pour tenter d'obtenir de meilleurs résultats"
   ]
  },
  {
   "cell_type": "code",
   "execution_count": 29,
   "metadata": {
    "collapsed": false
   },
   "outputs": [],
   "source": [
    "# Moyenne de toutes les colonnes\n",
    "moyennes = []\n",
    "nb_columns = len(combinaison.columns)\n",
    "for i in combinaison.index: #range(len(combinaison)):\n",
    "    moyenne = sum([int(combinaison.iloc[i,j]) for j in range(nb_columns)])\n",
    "    moyenne = 1 if moyenne > 0 else -1\n",
    "    moyennes += [str(moyenne)]\n",
    "combinaison['Total Average'] = moyennes\n",
    "\n",
    "# Moyenne des meilleurs critères\n",
    "moyennes = []\n",
    "sel_columns = ['Naive Bayes Multinomial','Naive Bayes Gaussian','Logistic Regression','Linear SVC','SVC']\n",
    "# il est important de prendre un nombre impair pour ne pas introduire le biais du choix si le resultat est positif\n",
    "for i in combinaison.index: #range(len(combinaison)):\n",
    "    moyenne = sum([int(combinaison.loc[i,column]) for column in sel_columns])\n",
    "    moyenne = 1 if moyenne > 0 else -1\n",
    "    moyennes += [str(moyenne)]\n",
    "combinaison['Best Average'] = moyennes"
   ]
  },
  {
   "cell_type": "code",
   "execution_count": 30,
   "metadata": {
    "collapsed": false
   },
   "outputs": [
    {
     "name": "stdout",
     "output_type": "stream",
     "text": [
      "Naive Bayes Multinomial  -  0.7911111111111111\n",
      "Naive Bayes Gaussian  -  0.7377777777777778\n",
      "Logistic Regression  -  0.78\n",
      "Linear SVC  -  0.77\n",
      "Random Forest  -  0.7322222222222222\n",
      "Gradient Boosting  -  0.7133333333333334\n",
      "KNeighbors  -  0.6677777777777778\n",
      "SVC  -  0.7711111111111111\n",
      "Decision Tree  -  0.6711111111111111\n",
      "Total Average  -  0.7888888888888889\n",
      "Best Average  -  0.7844444444444445\n"
     ]
    }
   ],
   "source": [
    "for column in combinaison.columns:\n",
    "    print(column,\" - \",precision(combinaison[column],y2))"
   ]
  },
  {
   "cell_type": "markdown",
   "metadata": {},
   "source": [
    "##### Le moyennage n'arrive pas à compenser les erreurs des classifiers sur ce dataset"
   ]
  },
  {
   "cell_type": "markdown",
   "metadata": {},
   "source": [
    "***\n",
    "### 6. Comparaison des résultats sur les différents datasets\n",
    "- Certains mots doivent mieux fonctionner en unigram, ex : mauvais\n",
    "- Cependant ils peuvent avoir un sens différent en bigram, ex : pas mauvais\n",
    "\n",
    "En somme la comparaison des 3 différents modèles sur les classifiers peut être intéressante. Par la suite il sera peut être avisé de combiner les résultats sur les différents datasets, comme réalisé au dessus pour les classifiers"
   ]
  },
  {
   "cell_type": "code",
   "execution_count": 31,
   "metadata": {
    "collapsed": false
   },
   "outputs": [
    {
     "name": "stdout",
     "output_type": "stream",
     "text": [
      " -  Bigram  - \n",
      "Naive Bayes Multinomial\n",
      "Naive Bayes Gaussian\n",
      "Logistic Regression\n",
      "Linear SVC\n",
      "Random Forest\n",
      "Gradient Boosting\n",
      "KNeighbors\n",
      "SVC\n",
      "Decision Tree\n",
      " -  Unigram  - \n",
      "Naive Bayes Multinomial\n",
      "Naive Bayes Gaussian\n",
      "Logistic Regression\n",
      "Linear SVC\n",
      "Random Forest\n",
      "Gradient Boosting\n",
      "KNeighbors\n",
      "SVC\n",
      "Decision Tree\n",
      " -  Unigram + Bigram  - \n",
      "Naive Bayes Multinomial\n",
      "Naive Bayes Gaussian\n",
      "Logistic Regression\n",
      "Linear SVC\n",
      "Random Forest\n",
      "Gradient Boosting\n",
      "KNeighbors\n",
      "SVC\n",
      "Decision Tree\n"
     ]
    }
   ],
   "source": [
    "results = {}\n",
    "for train,test,title in (train_bi,test_bi,\"Bigram\"),(train_uni,test_uni,\"Unigram\"),(train_unibi,test_unibi,\"Unigram + Bigram\"):\n",
    "    print(' - ',title,' - ')\n",
    "    train,test = reviews(train,test)\n",
    "    X = train.iloc[:,1:]\n",
    "    y = train.iloc[:,0]\n",
    "    all_scores = []\n",
    "    indexes = []\n",
    "    for name,clf in classifiers:\n",
    "        print(name)\n",
    "        indexes += [name]\n",
    "        all_scores += [scores(clf,X,y,name,False)]\n",
    "    results[title] = all_scores"
   ]
  },
  {
   "cell_type": "code",
   "execution_count": 32,
   "metadata": {
    "collapsed": false
   },
   "outputs": [
    {
     "data": {
      "text/html": [
       "<div>\n",
       "<table border=\"1\" class=\"dataframe\">\n",
       "  <thead>\n",
       "    <tr style=\"text-align: right;\">\n",
       "      <th></th>\n",
       "      <th>Bigram</th>\n",
       "      <th>Unigram</th>\n",
       "      <th>Unigram + Bigram</th>\n",
       "    </tr>\n",
       "  </thead>\n",
       "  <tbody>\n",
       "    <tr>\n",
       "      <th>Naive Bayes Multinomial</th>\n",
       "      <td>0.773333</td>\n",
       "      <td>0.861333</td>\n",
       "      <td>0.864667</td>\n",
       "    </tr>\n",
       "    <tr>\n",
       "      <th>Naive Bayes Gaussian</th>\n",
       "      <td>0.750333</td>\n",
       "      <td>0.782333</td>\n",
       "      <td>0.810333</td>\n",
       "    </tr>\n",
       "    <tr>\n",
       "      <th>Logistic Regression</th>\n",
       "      <td>0.762000</td>\n",
       "      <td>0.862667</td>\n",
       "      <td>0.869333</td>\n",
       "    </tr>\n",
       "    <tr>\n",
       "      <th>Linear SVC</th>\n",
       "      <td>0.745000</td>\n",
       "      <td>0.849333</td>\n",
       "      <td>0.858333</td>\n",
       "    </tr>\n",
       "    <tr>\n",
       "      <th>Random Forest</th>\n",
       "      <td>0.727667</td>\n",
       "      <td>0.797667</td>\n",
       "      <td>0.815667</td>\n",
       "    </tr>\n",
       "    <tr>\n",
       "      <th>Gradient Boosting</th>\n",
       "      <td>0.718667</td>\n",
       "      <td>0.765000</td>\n",
       "      <td>0.771000</td>\n",
       "    </tr>\n",
       "    <tr>\n",
       "      <th>KNeighbors</th>\n",
       "      <td>0.694667</td>\n",
       "      <td>0.761667</td>\n",
       "      <td>0.760333</td>\n",
       "    </tr>\n",
       "    <tr>\n",
       "      <th>SVC</th>\n",
       "      <td>0.755667</td>\n",
       "      <td>0.857333</td>\n",
       "      <td>0.856667</td>\n",
       "    </tr>\n",
       "    <tr>\n",
       "      <th>Decision Tree</th>\n",
       "      <td>0.667000</td>\n",
       "      <td>0.690667</td>\n",
       "      <td>0.681000</td>\n",
       "    </tr>\n",
       "  </tbody>\n",
       "</table>\n",
       "</div>"
      ],
      "text/plain": [
       "                           Bigram   Unigram  Unigram + Bigram\n",
       "Naive Bayes Multinomial  0.773333  0.861333          0.864667\n",
       "Naive Bayes Gaussian     0.750333  0.782333          0.810333\n",
       "Logistic Regression      0.762000  0.862667          0.869333\n",
       "Linear SVC               0.745000  0.849333          0.858333\n",
       "Random Forest            0.727667  0.797667          0.815667\n",
       "Gradient Boosting        0.718667  0.765000          0.771000\n",
       "KNeighbors               0.694667  0.761667          0.760333\n",
       "SVC                      0.755667  0.857333          0.856667\n",
       "Decision Tree            0.667000  0.690667          0.681000"
      ]
     },
     "execution_count": 32,
     "metadata": {},
     "output_type": "execute_result"
    }
   ],
   "source": [
    "resultsdf = pd.DataFrame(results,index = indexes)\n",
    "resultsdf"
   ]
  },
  {
   "cell_type": "markdown",
   "metadata": {},
   "source": [
    "Le meilleur classifier est **Logistic Regression sur Unigram + Bigram**"
   ]
  },
  {
   "cell_type": "markdown",
   "metadata": {},
   "source": [
    "De nouvelles améliorations viennent à l'idée : \n",
    "- Analyser les meilleurs features, quels mots permettent vraiment de classifier\n",
    "- Combiner les différents datasets et les différents classifiers"
   ]
  },
  {
   "cell_type": "markdown",
   "metadata": {
    "collapsed": true
   },
   "source": [
    "### 7. Analyse des best features"
   ]
  },
  {
   "cell_type": "code",
   "execution_count": 33,
   "metadata": {
    "collapsed": false
   },
   "outputs": [
    {
     "name": "stdout",
     "output_type": "stream",
     "text": [
      "100 features done\n",
      "100 features done\n",
      "100 features done\n",
      "100 features done\n",
      "100 features done\n",
      "100 features done\n",
      "100 features done\n",
      "100 features done\n",
      "100 features done\n",
      "100 features done\n",
      "100 features done\n",
      "100 features done\n",
      "100 features done\n",
      "100 features done\n",
      "100 features done\n",
      "100 features done\n",
      "100 features done\n",
      "100 features done\n",
      "100 features done\n"
     ]
    }
   ],
   "source": [
    "clf = LogisticRegression(C=1)\n",
    "\n",
    "features = list(X.columns)\n",
    "features_scores = []\n",
    "for feature in features:\n",
    "    if feature%100 == 0:\n",
    "        print(\"100 features done\")\n",
    "    features_scores += [[feature,scores(clf,X[[feature]],y,show_scores = False)]]\n"
   ]
  },
  {
   "cell_type": "markdown",
   "metadata": {},
   "source": [
    "On regarde quels sont les termes qui, seuls, amènent la meilleure précision"
   ]
  },
  {
   "cell_type": "code",
   "execution_count": 34,
   "metadata": {
    "collapsed": false
   },
   "outputs": [
    {
     "data": {
      "text/html": [
       "<div>\n",
       "<table border=\"1\" class=\"dataframe\">\n",
       "  <thead>\n",
       "    <tr style=\"text-align: right;\">\n",
       "      <th></th>\n",
       "      <th>feature</th>\n",
       "      <th>score</th>\n",
       "    </tr>\n",
       "  </thead>\n",
       "  <tbody>\n",
       "    <tr>\n",
       "      <th>0</th>\n",
       "      <td>1176</td>\n",
       "      <td>0.600667</td>\n",
       "    </tr>\n",
       "    <tr>\n",
       "      <th>1</th>\n",
       "      <td>1437</td>\n",
       "      <td>0.580000</td>\n",
       "    </tr>\n",
       "    <tr>\n",
       "      <th>2</th>\n",
       "      <td>1078</td>\n",
       "      <td>0.575333</td>\n",
       "    </tr>\n",
       "    <tr>\n",
       "      <th>3</th>\n",
       "      <td>523</td>\n",
       "      <td>0.571667</td>\n",
       "    </tr>\n",
       "    <tr>\n",
       "      <th>4</th>\n",
       "      <td>1732</td>\n",
       "      <td>0.569667</td>\n",
       "    </tr>\n",
       "    <tr>\n",
       "      <th>5</th>\n",
       "      <td>664</td>\n",
       "      <td>0.568667</td>\n",
       "    </tr>\n",
       "    <tr>\n",
       "      <th>6</th>\n",
       "      <td>1475</td>\n",
       "      <td>0.558667</td>\n",
       "    </tr>\n",
       "    <tr>\n",
       "      <th>7</th>\n",
       "      <td>1118</td>\n",
       "      <td>0.558000</td>\n",
       "    </tr>\n",
       "    <tr>\n",
       "      <th>8</th>\n",
       "      <td>988</td>\n",
       "      <td>0.557667</td>\n",
       "    </tr>\n",
       "    <tr>\n",
       "      <th>9</th>\n",
       "      <td>1490</td>\n",
       "      <td>0.549667</td>\n",
       "    </tr>\n",
       "  </tbody>\n",
       "</table>\n",
       "</div>"
      ],
      "text/plain": [
       "   feature     score\n",
       "0     1176  0.600667\n",
       "1     1437  0.580000\n",
       "2     1078  0.575333\n",
       "3      523  0.571667\n",
       "4     1732  0.569667\n",
       "5      664  0.568667\n",
       "6     1475  0.558667\n",
       "7     1118  0.558000\n",
       "8      988  0.557667\n",
       "9     1490  0.549667"
      ]
     },
     "execution_count": 34,
     "metadata": {},
     "output_type": "execute_result"
    }
   ],
   "source": [
    "pd.DataFrame(sorted(features_scores,key = lambda t:t[1],reverse = True),columns = ['feature','score']).iloc[:10,:]"
   ]
  },
  {
   "cell_type": "markdown",
   "metadata": {},
   "source": [
    "Et la pire précision"
   ]
  },
  {
   "cell_type": "code",
   "execution_count": 35,
   "metadata": {
    "collapsed": false
   },
   "outputs": [
    {
     "data": {
      "text/html": [
       "<div>\n",
       "<table border=\"1\" class=\"dataframe\">\n",
       "  <thead>\n",
       "    <tr style=\"text-align: right;\">\n",
       "      <th></th>\n",
       "      <th>feature</th>\n",
       "      <th>score</th>\n",
       "    </tr>\n",
       "  </thead>\n",
       "  <tbody>\n",
       "    <tr>\n",
       "      <th>0</th>\n",
       "      <td>504</td>\n",
       "      <td>0.460667</td>\n",
       "    </tr>\n",
       "    <tr>\n",
       "      <th>1</th>\n",
       "      <td>1663</td>\n",
       "      <td>0.474667</td>\n",
       "    </tr>\n",
       "    <tr>\n",
       "      <th>2</th>\n",
       "      <td>759</td>\n",
       "      <td>0.475333</td>\n",
       "    </tr>\n",
       "    <tr>\n",
       "      <th>3</th>\n",
       "      <td>496</td>\n",
       "      <td>0.476000</td>\n",
       "    </tr>\n",
       "    <tr>\n",
       "      <th>4</th>\n",
       "      <td>1534</td>\n",
       "      <td>0.476333</td>\n",
       "    </tr>\n",
       "    <tr>\n",
       "      <th>5</th>\n",
       "      <td>638</td>\n",
       "      <td>0.478000</td>\n",
       "    </tr>\n",
       "    <tr>\n",
       "      <th>6</th>\n",
       "      <td>1448</td>\n",
       "      <td>0.478000</td>\n",
       "    </tr>\n",
       "    <tr>\n",
       "      <th>7</th>\n",
       "      <td>527</td>\n",
       "      <td>0.479333</td>\n",
       "    </tr>\n",
       "    <tr>\n",
       "      <th>8</th>\n",
       "      <td>973</td>\n",
       "      <td>0.479333</td>\n",
       "    </tr>\n",
       "    <tr>\n",
       "      <th>9</th>\n",
       "      <td>33</td>\n",
       "      <td>0.480667</td>\n",
       "    </tr>\n",
       "  </tbody>\n",
       "</table>\n",
       "</div>"
      ],
      "text/plain": [
       "   feature     score\n",
       "0      504  0.460667\n",
       "1     1663  0.474667\n",
       "2      759  0.475333\n",
       "3      496  0.476000\n",
       "4     1534  0.476333\n",
       "5      638  0.478000\n",
       "6     1448  0.478000\n",
       "7      527  0.479333\n",
       "8      973  0.479333\n",
       "9       33  0.480667"
      ]
     },
     "execution_count": 35,
     "metadata": {},
     "output_type": "execute_result"
    }
   ],
   "source": [
    "pd.DataFrame(sorted(features_scores,key = lambda t:t[1],reverse = False),columns = ['feature','score']).iloc[:10,:]"
   ]
  },
  {
   "cell_type": "markdown",
   "metadata": {},
   "source": [
    "Les résultats ne sont pas intéressants : les valeurs extrêmes sont 46% à 54% de précision\n",
    "\n",
    "Essayons avec le dataset unigram"
   ]
  },
  {
   "cell_type": "code",
   "execution_count": 36,
   "metadata": {
    "collapsed": false
   },
   "outputs": [
    {
     "name": "stdout",
     "output_type": "stream",
     "text": [
      "100 features done\n",
      "100 features done\n",
      "100 features done\n",
      "100 features done\n",
      "100 features done\n",
      "100 features done\n",
      "100 features done\n",
      "100 features done\n",
      "100 features done\n",
      "100 features done\n"
     ]
    }
   ],
   "source": [
    "train,test = reviews(train_uni,test_uni)\n",
    "X = train.iloc[:,1:]\n",
    "y = train.iloc[:,0]\n",
    "clf = LogisticRegression(C=1)\n",
    "\n",
    "features = list(X.columns)\n",
    "features_scores = []\n",
    "for feature in features:\n",
    "    if feature%100 == 0:\n",
    "        print(\"100 features done\")\n",
    "    features_scores += [[feature,scores(clf,X[[feature]],y,show_scores = False)]]"
   ]
  },
  {
   "cell_type": "code",
   "execution_count": 37,
   "metadata": {
    "collapsed": false
   },
   "outputs": [
    {
     "data": {
      "text/html": [
       "<div>\n",
       "<table border=\"1\" class=\"dataframe\">\n",
       "  <thead>\n",
       "    <tr style=\"text-align: right;\">\n",
       "      <th></th>\n",
       "      <th>feature</th>\n",
       "      <th>score</th>\n",
       "    </tr>\n",
       "  </thead>\n",
       "  <tbody>\n",
       "    <tr>\n",
       "      <th>0</th>\n",
       "      <td>600</td>\n",
       "      <td>0.599333</td>\n",
       "    </tr>\n",
       "    <tr>\n",
       "      <th>1</th>\n",
       "      <td>752</td>\n",
       "      <td>0.580000</td>\n",
       "    </tr>\n",
       "    <tr>\n",
       "      <th>2</th>\n",
       "      <td>556</td>\n",
       "      <td>0.576000</td>\n",
       "    </tr>\n",
       "    <tr>\n",
       "      <th>3</th>\n",
       "      <td>345</td>\n",
       "      <td>0.575000</td>\n",
       "    </tr>\n",
       "    <tr>\n",
       "      <th>4</th>\n",
       "      <td>295</td>\n",
       "      <td>0.571667</td>\n",
       "    </tr>\n",
       "    <tr>\n",
       "      <th>5</th>\n",
       "      <td>934</td>\n",
       "      <td>0.569667</td>\n",
       "    </tr>\n",
       "    <tr>\n",
       "      <th>6</th>\n",
       "      <td>782</td>\n",
       "      <td>0.558667</td>\n",
       "    </tr>\n",
       "    <tr>\n",
       "      <th>7</th>\n",
       "      <td>577</td>\n",
       "      <td>0.558000</td>\n",
       "    </tr>\n",
       "    <tr>\n",
       "      <th>8</th>\n",
       "      <td>491</td>\n",
       "      <td>0.557667</td>\n",
       "    </tr>\n",
       "    <tr>\n",
       "      <th>9</th>\n",
       "      <td>790</td>\n",
       "      <td>0.549667</td>\n",
       "    </tr>\n",
       "  </tbody>\n",
       "</table>\n",
       "</div>"
      ],
      "text/plain": [
       "   feature     score\n",
       "0      600  0.599333\n",
       "1      752  0.580000\n",
       "2      556  0.576000\n",
       "3      345  0.575000\n",
       "4      295  0.571667\n",
       "5      934  0.569667\n",
       "6      782  0.558667\n",
       "7      577  0.558000\n",
       "8      491  0.557667\n",
       "9      790  0.549667"
      ]
     },
     "execution_count": 37,
     "metadata": {},
     "output_type": "execute_result"
    }
   ],
   "source": [
    "pd.DataFrame(sorted(features_scores,key = lambda t:t[1],reverse = True),columns = ['feature','score']).iloc[:10,:]"
   ]
  },
  {
   "cell_type": "code",
   "execution_count": 38,
   "metadata": {
    "collapsed": false
   },
   "outputs": [
    {
     "data": {
      "text/html": [
       "<div>\n",
       "<table border=\"1\" class=\"dataframe\">\n",
       "  <thead>\n",
       "    <tr style=\"text-align: right;\">\n",
       "      <th></th>\n",
       "      <th>feature</th>\n",
       "      <th>score</th>\n",
       "    </tr>\n",
       "  </thead>\n",
       "  <tbody>\n",
       "    <tr>\n",
       "      <th>0</th>\n",
       "      <td>289</td>\n",
       "      <td>0.461000</td>\n",
       "    </tr>\n",
       "    <tr>\n",
       "      <th>1</th>\n",
       "      <td>397</td>\n",
       "      <td>0.468667</td>\n",
       "    </tr>\n",
       "    <tr>\n",
       "      <th>2</th>\n",
       "      <td>283</td>\n",
       "      <td>0.476000</td>\n",
       "    </tr>\n",
       "    <tr>\n",
       "      <th>3</th>\n",
       "      <td>761</td>\n",
       "      <td>0.478000</td>\n",
       "    </tr>\n",
       "    <tr>\n",
       "      <th>4</th>\n",
       "      <td>297</td>\n",
       "      <td>0.479333</td>\n",
       "    </tr>\n",
       "    <tr>\n",
       "      <th>5</th>\n",
       "      <td>23</td>\n",
       "      <td>0.480667</td>\n",
       "    </tr>\n",
       "    <tr>\n",
       "      <th>6</th>\n",
       "      <td>439</td>\n",
       "      <td>0.482333</td>\n",
       "    </tr>\n",
       "    <tr>\n",
       "      <th>7</th>\n",
       "      <td>728</td>\n",
       "      <td>0.483667</td>\n",
       "    </tr>\n",
       "    <tr>\n",
       "      <th>8</th>\n",
       "      <td>171</td>\n",
       "      <td>0.484000</td>\n",
       "    </tr>\n",
       "    <tr>\n",
       "      <th>9</th>\n",
       "      <td>578</td>\n",
       "      <td>0.484000</td>\n",
       "    </tr>\n",
       "  </tbody>\n",
       "</table>\n",
       "</div>"
      ],
      "text/plain": [
       "   feature     score\n",
       "0      289  0.461000\n",
       "1      397  0.468667\n",
       "2      283  0.476000\n",
       "3      761  0.478000\n",
       "4      297  0.479333\n",
       "5       23  0.480667\n",
       "6      439  0.482333\n",
       "7      728  0.483667\n",
       "8      171  0.484000\n",
       "9      578  0.484000"
      ]
     },
     "execution_count": 38,
     "metadata": {},
     "output_type": "execute_result"
    }
   ],
   "source": [
    "pd.DataFrame(sorted(features_scores,key = lambda t:t[1],reverse = False),columns = ['feature','score']).iloc[:10,:]"
   ]
  },
  {
   "cell_type": "markdown",
   "metadata": {},
   "source": [
    "Les features ne sont pas assez différenciants pour faire une sélection, \n",
    "Je n'irai pas plus loin dans cette approche"
   ]
  },
  {
   "cell_type": "markdown",
   "metadata": {},
   "source": [
    "***\n",
    "### 8. Combinaison des 3 datasets avec les meilleurs prédicteurs"
   ]
  },
  {
   "cell_type": "markdown",
   "metadata": {},
   "source": [
    "##### Combinaison des 3 datasets avec le même classifier : \"Logistic Regression\""
   ]
  },
  {
   "cell_type": "code",
   "execution_count": 39,
   "metadata": {
    "collapsed": true
   },
   "outputs": [],
   "source": [
    "trains,tests = {},{}\n",
    "for train,test,name in (train_uni,test_uni,'unigram'),(train_bi,test_bi,'bigram'),(train_unibi,test_unibi,'unibigram'):\n",
    "    trains[name],tests[name] = reviews(train,test)\n",
    "    \n",
    "X,y = {},{}\n",
    "\n",
    "for name in ('unigram','bigram','unibigram'):\n",
    "    X[name] = trains[name].iloc[:,1:]\n",
    "    y[name] = trains[name].iloc[:,0]"
   ]
  },
  {
   "cell_type": "code",
   "execution_count": 40,
   "metadata": {
    "collapsed": false
   },
   "outputs": [
    {
     "name": "stdout",
     "output_type": "stream",
     "text": [
      "True    3000\n",
      "Name: target, dtype: int64\n",
      "\n",
      "True    3000\n",
      "Name: target, dtype: int64\n"
     ]
    }
   ],
   "source": [
    "#Vérification que les 3 datasets correspondent\n",
    "names = ('unigram','bigram','unibigram')\n",
    "print((y['unigram'] == y['bigram']).value_counts())\n",
    "print('')\n",
    "print((y['unigram'] == y['unibigram']).value_counts())"
   ]
  },
  {
   "cell_type": "markdown",
   "metadata": {},
   "source": [
    "Pour pouvoir faire un test réel il va falloir réaliser un split random identique sur les 3 datasets d'entraînement\n",
    "Ceci est réalisable en utilisant la fonction train_test_split() avec un random seed identique et défini"
   ]
  },
  {
   "cell_type": "code",
   "execution_count": 41,
   "metadata": {
    "collapsed": true
   },
   "outputs": [],
   "source": [
    "X1,X2,y1,y2 = {},{},{},{}\n",
    "\n",
    "for name in names:\n",
    "    X1[name],X2[name],y1[name],y2[name] = train_test_split(X[name],y[name],test_size = 0.3,random_state = 1)"
   ]
  },
  {
   "cell_type": "code",
   "execution_count": 42,
   "metadata": {
    "collapsed": false
   },
   "outputs": [
    {
     "name": "stdout",
     "output_type": "stream",
     "text": [
      "True    2100\n",
      "dtype: int64\n",
      "\n",
      "True    2100\n",
      "dtype: int64\n"
     ]
    }
   ],
   "source": [
    "#vérification que les index correspondent\n",
    "print(pd.Series((X1['unigram'].index == X1['bigram'].index)).value_counts())\n",
    "print('')\n",
    "print(pd.Series((X1['unigram'].index == X1['unibigram'].index)).value_counts())"
   ]
  },
  {
   "cell_type": "markdown",
   "metadata": {},
   "source": [
    "On peut à présent réaliser des tests sur les 3 datasets séparément et les joindre par la suite"
   ]
  },
  {
   "cell_type": "code",
   "execution_count": 43,
   "metadata": {
    "collapsed": false
   },
   "outputs": [],
   "source": [
    "clf = LogisticRegression(C=1)\n",
    "all_predictions = pd.DataFrame()\n",
    "for name in names:\n",
    "    clf.fit(X1[name],y1[name]) \n",
    "    all_predictions[name] = clf.predict(X2[name])"
   ]
  },
  {
   "cell_type": "code",
   "execution_count": 44,
   "metadata": {
    "collapsed": false
   },
   "outputs": [
    {
     "data": {
      "text/html": [
       "<div>\n",
       "<table border=\"1\" class=\"dataframe\">\n",
       "  <thead>\n",
       "    <tr style=\"text-align: right;\">\n",
       "      <th></th>\n",
       "      <th>unigram</th>\n",
       "      <th>bigram</th>\n",
       "      <th>unibigram</th>\n",
       "    </tr>\n",
       "  </thead>\n",
       "  <tbody>\n",
       "    <tr>\n",
       "      <th>0</th>\n",
       "      <td>-1</td>\n",
       "      <td>-1</td>\n",
       "      <td>-1</td>\n",
       "    </tr>\n",
       "    <tr>\n",
       "      <th>1</th>\n",
       "      <td>-1</td>\n",
       "      <td>-1</td>\n",
       "      <td>-1</td>\n",
       "    </tr>\n",
       "    <tr>\n",
       "      <th>2</th>\n",
       "      <td>1</td>\n",
       "      <td>1</td>\n",
       "      <td>1</td>\n",
       "    </tr>\n",
       "    <tr>\n",
       "      <th>3</th>\n",
       "      <td>-1</td>\n",
       "      <td>-1</td>\n",
       "      <td>-1</td>\n",
       "    </tr>\n",
       "    <tr>\n",
       "      <th>4</th>\n",
       "      <td>1</td>\n",
       "      <td>1</td>\n",
       "      <td>1</td>\n",
       "    </tr>\n",
       "    <tr>\n",
       "      <th>5</th>\n",
       "      <td>1</td>\n",
       "      <td>1</td>\n",
       "      <td>1</td>\n",
       "    </tr>\n",
       "    <tr>\n",
       "      <th>6</th>\n",
       "      <td>1</td>\n",
       "      <td>-1</td>\n",
       "      <td>1</td>\n",
       "    </tr>\n",
       "    <tr>\n",
       "      <th>7</th>\n",
       "      <td>1</td>\n",
       "      <td>1</td>\n",
       "      <td>1</td>\n",
       "    </tr>\n",
       "    <tr>\n",
       "      <th>8</th>\n",
       "      <td>1</td>\n",
       "      <td>-1</td>\n",
       "      <td>1</td>\n",
       "    </tr>\n",
       "    <tr>\n",
       "      <th>9</th>\n",
       "      <td>-1</td>\n",
       "      <td>1</td>\n",
       "      <td>-1</td>\n",
       "    </tr>\n",
       "  </tbody>\n",
       "</table>\n",
       "</div>"
      ],
      "text/plain": [
       "  unigram bigram unibigram\n",
       "0      -1     -1        -1\n",
       "1      -1     -1        -1\n",
       "2       1      1         1\n",
       "3      -1     -1        -1\n",
       "4       1      1         1\n",
       "5       1      1         1\n",
       "6       1     -1         1\n",
       "7       1      1         1\n",
       "8       1     -1         1\n",
       "9      -1      1        -1"
      ]
     },
     "execution_count": 44,
     "metadata": {},
     "output_type": "execute_result"
    }
   ],
   "source": [
    "all_predictions.iloc[:10,:]"
   ]
  },
  {
   "cell_type": "code",
   "execution_count": 45,
   "metadata": {
    "collapsed": false
   },
   "outputs": [
    {
     "data": {
      "text/html": [
       "<div>\n",
       "<table border=\"1\" class=\"dataframe\">\n",
       "  <thead>\n",
       "    <tr style=\"text-align: right;\">\n",
       "      <th></th>\n",
       "      <th>unigram</th>\n",
       "      <th>bigram</th>\n",
       "      <th>unibigram</th>\n",
       "      <th>Total Average</th>\n",
       "    </tr>\n",
       "  </thead>\n",
       "  <tbody>\n",
       "    <tr>\n",
       "      <th>0</th>\n",
       "      <td>-1</td>\n",
       "      <td>-1</td>\n",
       "      <td>-1</td>\n",
       "      <td>-1</td>\n",
       "    </tr>\n",
       "    <tr>\n",
       "      <th>1</th>\n",
       "      <td>-1</td>\n",
       "      <td>-1</td>\n",
       "      <td>-1</td>\n",
       "      <td>-1</td>\n",
       "    </tr>\n",
       "    <tr>\n",
       "      <th>2</th>\n",
       "      <td>1</td>\n",
       "      <td>1</td>\n",
       "      <td>1</td>\n",
       "      <td>1</td>\n",
       "    </tr>\n",
       "    <tr>\n",
       "      <th>3</th>\n",
       "      <td>-1</td>\n",
       "      <td>-1</td>\n",
       "      <td>-1</td>\n",
       "      <td>-1</td>\n",
       "    </tr>\n",
       "    <tr>\n",
       "      <th>4</th>\n",
       "      <td>1</td>\n",
       "      <td>1</td>\n",
       "      <td>1</td>\n",
       "      <td>1</td>\n",
       "    </tr>\n",
       "    <tr>\n",
       "      <th>5</th>\n",
       "      <td>1</td>\n",
       "      <td>1</td>\n",
       "      <td>1</td>\n",
       "      <td>1</td>\n",
       "    </tr>\n",
       "    <tr>\n",
       "      <th>6</th>\n",
       "      <td>1</td>\n",
       "      <td>-1</td>\n",
       "      <td>1</td>\n",
       "      <td>1</td>\n",
       "    </tr>\n",
       "    <tr>\n",
       "      <th>7</th>\n",
       "      <td>1</td>\n",
       "      <td>1</td>\n",
       "      <td>1</td>\n",
       "      <td>1</td>\n",
       "    </tr>\n",
       "    <tr>\n",
       "      <th>8</th>\n",
       "      <td>1</td>\n",
       "      <td>-1</td>\n",
       "      <td>1</td>\n",
       "      <td>1</td>\n",
       "    </tr>\n",
       "    <tr>\n",
       "      <th>9</th>\n",
       "      <td>-1</td>\n",
       "      <td>1</td>\n",
       "      <td>-1</td>\n",
       "      <td>-1</td>\n",
       "    </tr>\n",
       "  </tbody>\n",
       "</table>\n",
       "</div>"
      ],
      "text/plain": [
       "  unigram bigram unibigram Total Average\n",
       "0      -1     -1        -1            -1\n",
       "1      -1     -1        -1            -1\n",
       "2       1      1         1             1\n",
       "3      -1     -1        -1            -1\n",
       "4       1      1         1             1\n",
       "5       1      1         1             1\n",
       "6       1     -1         1             1\n",
       "7       1      1         1             1\n",
       "8       1     -1         1             1\n",
       "9      -1      1        -1            -1"
      ]
     },
     "execution_count": 45,
     "metadata": {},
     "output_type": "execute_result"
    }
   ],
   "source": [
    "# Moyenne de toutes les colonnes\n",
    "moyennes = []\n",
    "nb_columns = len(all_predictions.columns)\n",
    "for i in all_predictions.index: #range(len(combinaison)):\n",
    "    moyenne = sum([int(all_predictions.iloc[i,j]) for j in range(nb_columns)])\n",
    "    moyenne = 1 if moyenne > 0 else -1\n",
    "    moyennes += [str(moyenne)]\n",
    "all_predictions['Total Average'] = moyennes\n",
    "all_predictions.iloc[:10,:]"
   ]
  },
  {
   "cell_type": "code",
   "execution_count": 46,
   "metadata": {
    "collapsed": false
   },
   "outputs": [
    {
     "name": "stdout",
     "output_type": "stream",
     "text": [
      "unigram  -  0.88\n",
      "bigram  -  0.7655555555555555\n",
      "unibigram  -  0.89\n",
      "Total Average  -  0.9\n"
     ]
    }
   ],
   "source": [
    "for column in all_predictions.columns:\n",
    "    print(column,\" - \",precision(all_predictions[column],y2['unigram']))"
   ]
  },
  {
   "cell_type": "markdown",
   "metadata": {},
   "source": [
    "Moyenner sur les 3 datasets permet bien ainsi d'augmenter la précision moyenne"
   ]
  },
  {
   "cell_type": "markdown",
   "metadata": {},
   "source": [
    "#### Combinaison des 3 datasets avec les meilleurs classifiers dans chaque catégorie"
   ]
  },
  {
   "cell_type": "code",
   "execution_count": 47,
   "metadata": {
    "collapsed": false
   },
   "outputs": [
    {
     "name": "stdout",
     "output_type": "stream",
     "text": [
      "unigram  -  0.88\n",
      "bigram  -  0.7888888888888889\n",
      "unibigram  -  0.89\n",
      "Total Average  -  0.9011111111111111\n"
     ]
    }
   ],
   "source": [
    "clfs = {}\n",
    "clfs['bigram'] = naive_bayes.MultinomialNB(fit_prior = True)\n",
    "clfs['unigram'] = LogisticRegression(C=1)\n",
    "clfs['unibigram'] = LogisticRegression(C=1)\n",
    "\n",
    "all_predictions = pd.DataFrame()\n",
    "\n",
    "for name in names:\n",
    "    clf = clfs[name] \n",
    "    clf.fit(X1[name],y1[name]) \n",
    "    all_predictions[name] = clf.predict(X2[name])\n",
    "    \n",
    "# Moyenne de toutes les colonnes\n",
    "moyennes = []\n",
    "nb_columns = len(all_predictions.columns)\n",
    "for i in all_predictions.index: #range(len(combinaison)):\n",
    "    moyenne = sum([int(all_predictions.iloc[i,j]) for j in range(nb_columns)])\n",
    "    moyenne = 1 if moyenne > 0 else -1\n",
    "    moyennes += [str(moyenne)]\n",
    "all_predictions['Total Average'] = moyennes\n",
    "\n",
    "for column in all_predictions.columns:\n",
    "    print(column,\" - \",precision(all_predictions[column],y2['unigram']))"
   ]
  },
  {
   "cell_type": "markdown",
   "metadata": {},
   "source": [
    "#### Combinaisons des 3 datasets avec une combinaison des 3 meilleurs classifiers\n",
    "- Naive Bayes Multinomial\n",
    "- Logistic Regression\n",
    "- SVC"
   ]
  },
  {
   "cell_type": "code",
   "execution_count": 48,
   "metadata": {
    "collapsed": false
   },
   "outputs": [],
   "source": [
    "clfs = [classifiers[i] for i in [0,2,7]] #correspont aux 3 classifiers présentés ci-dessus\n",
    "\n",
    "all_predictions = pd.DataFrame()\n",
    "\n",
    "for name in names:\n",
    "    for name_clf,clf in clfs:\n",
    "        clf.fit(X1[name],y1[name])\n",
    "        all_predictions[name+\" - \"+name_clf] = clf.predict(X2[name])"
   ]
  },
  {
   "cell_type": "code",
   "execution_count": 49,
   "metadata": {
    "collapsed": false
   },
   "outputs": [
    {
     "data": {
      "text/html": [
       "<div>\n",
       "<table border=\"1\" class=\"dataframe\">\n",
       "  <thead>\n",
       "    <tr style=\"text-align: right;\">\n",
       "      <th></th>\n",
       "      <th>unigram - Naive Bayes Multinomial</th>\n",
       "      <th>unigram - Logistic Regression</th>\n",
       "      <th>unigram - SVC</th>\n",
       "      <th>bigram - Naive Bayes Multinomial</th>\n",
       "      <th>bigram - Logistic Regression</th>\n",
       "      <th>bigram - SVC</th>\n",
       "      <th>unibigram - Naive Bayes Multinomial</th>\n",
       "      <th>unibigram - Logistic Regression</th>\n",
       "      <th>unibigram - SVC</th>\n",
       "    </tr>\n",
       "  </thead>\n",
       "  <tbody>\n",
       "    <tr>\n",
       "      <th>0</th>\n",
       "      <td>-1</td>\n",
       "      <td>-1</td>\n",
       "      <td>-1</td>\n",
       "      <td>-1</td>\n",
       "      <td>-1</td>\n",
       "      <td>-1</td>\n",
       "      <td>-1</td>\n",
       "      <td>-1</td>\n",
       "      <td>-1</td>\n",
       "    </tr>\n",
       "    <tr>\n",
       "      <th>1</th>\n",
       "      <td>-1</td>\n",
       "      <td>-1</td>\n",
       "      <td>-1</td>\n",
       "      <td>-1</td>\n",
       "      <td>-1</td>\n",
       "      <td>-1</td>\n",
       "      <td>-1</td>\n",
       "      <td>-1</td>\n",
       "      <td>-1</td>\n",
       "    </tr>\n",
       "    <tr>\n",
       "      <th>2</th>\n",
       "      <td>1</td>\n",
       "      <td>1</td>\n",
       "      <td>1</td>\n",
       "      <td>1</td>\n",
       "      <td>1</td>\n",
       "      <td>1</td>\n",
       "      <td>1</td>\n",
       "      <td>1</td>\n",
       "      <td>1</td>\n",
       "    </tr>\n",
       "    <tr>\n",
       "      <th>3</th>\n",
       "      <td>-1</td>\n",
       "      <td>-1</td>\n",
       "      <td>-1</td>\n",
       "      <td>-1</td>\n",
       "      <td>-1</td>\n",
       "      <td>-1</td>\n",
       "      <td>-1</td>\n",
       "      <td>-1</td>\n",
       "      <td>-1</td>\n",
       "    </tr>\n",
       "    <tr>\n",
       "      <th>4</th>\n",
       "      <td>1</td>\n",
       "      <td>1</td>\n",
       "      <td>1</td>\n",
       "      <td>1</td>\n",
       "      <td>1</td>\n",
       "      <td>1</td>\n",
       "      <td>1</td>\n",
       "      <td>1</td>\n",
       "      <td>1</td>\n",
       "    </tr>\n",
       "  </tbody>\n",
       "</table>\n",
       "</div>"
      ],
      "text/plain": [
       "  unigram - Naive Bayes Multinomial unigram - Logistic Regression  \\\n",
       "0                                -1                            -1   \n",
       "1                                -1                            -1   \n",
       "2                                 1                             1   \n",
       "3                                -1                            -1   \n",
       "4                                 1                             1   \n",
       "\n",
       "  unigram - SVC bigram - Naive Bayes Multinomial bigram - Logistic Regression  \\\n",
       "0            -1                               -1                           -1   \n",
       "1            -1                               -1                           -1   \n",
       "2             1                                1                            1   \n",
       "3            -1                               -1                           -1   \n",
       "4             1                                1                            1   \n",
       "\n",
       "  bigram - SVC unibigram - Naive Bayes Multinomial  \\\n",
       "0           -1                                  -1   \n",
       "1           -1                                  -1   \n",
       "2            1                                   1   \n",
       "3           -1                                  -1   \n",
       "4            1                                   1   \n",
       "\n",
       "  unibigram - Logistic Regression unibigram - SVC  \n",
       "0                              -1              -1  \n",
       "1                              -1              -1  \n",
       "2                               1               1  \n",
       "3                              -1              -1  \n",
       "4                               1               1  "
      ]
     },
     "execution_count": 49,
     "metadata": {},
     "output_type": "execute_result"
    }
   ],
   "source": [
    "all_predictions.head()"
   ]
  },
  {
   "cell_type": "code",
   "execution_count": 50,
   "metadata": {
    "collapsed": false
   },
   "outputs": [
    {
     "data": {
      "text/html": [
       "<div>\n",
       "<table border=\"1\" class=\"dataframe\">\n",
       "  <thead>\n",
       "    <tr style=\"text-align: right;\">\n",
       "      <th></th>\n",
       "      <th>unigram - Naive Bayes Multinomial</th>\n",
       "      <th>unigram - Logistic Regression</th>\n",
       "      <th>unigram - SVC</th>\n",
       "      <th>bigram - Naive Bayes Multinomial</th>\n",
       "      <th>bigram - Logistic Regression</th>\n",
       "      <th>bigram - SVC</th>\n",
       "      <th>unibigram - Naive Bayes Multinomial</th>\n",
       "      <th>unibigram - Logistic Regression</th>\n",
       "      <th>unibigram - SVC</th>\n",
       "    </tr>\n",
       "  </thead>\n",
       "  <tbody>\n",
       "    <tr>\n",
       "      <th>count</th>\n",
       "      <td>900</td>\n",
       "      <td>900</td>\n",
       "      <td>900</td>\n",
       "      <td>900</td>\n",
       "      <td>900</td>\n",
       "      <td>900</td>\n",
       "      <td>900</td>\n",
       "      <td>900</td>\n",
       "      <td>900</td>\n",
       "    </tr>\n",
       "    <tr>\n",
       "      <th>unique</th>\n",
       "      <td>2</td>\n",
       "      <td>2</td>\n",
       "      <td>2</td>\n",
       "      <td>2</td>\n",
       "      <td>2</td>\n",
       "      <td>2</td>\n",
       "      <td>2</td>\n",
       "      <td>2</td>\n",
       "      <td>2</td>\n",
       "    </tr>\n",
       "    <tr>\n",
       "      <th>top</th>\n",
       "      <td>1</td>\n",
       "      <td>1</td>\n",
       "      <td>1</td>\n",
       "      <td>-1</td>\n",
       "      <td>-1</td>\n",
       "      <td>-1</td>\n",
       "      <td>1</td>\n",
       "      <td>1</td>\n",
       "      <td>-1</td>\n",
       "    </tr>\n",
       "    <tr>\n",
       "      <th>freq</th>\n",
       "      <td>462</td>\n",
       "      <td>461</td>\n",
       "      <td>459</td>\n",
       "      <td>461</td>\n",
       "      <td>464</td>\n",
       "      <td>467</td>\n",
       "      <td>455</td>\n",
       "      <td>462</td>\n",
       "      <td>454</td>\n",
       "    </tr>\n",
       "  </tbody>\n",
       "</table>\n",
       "</div>"
      ],
      "text/plain": [
       "       unigram - Naive Bayes Multinomial unigram - Logistic Regression  \\\n",
       "count                                900                           900   \n",
       "unique                                 2                             2   \n",
       "top                                    1                             1   \n",
       "freq                                 462                           461   \n",
       "\n",
       "       unigram - SVC bigram - Naive Bayes Multinomial  \\\n",
       "count            900                              900   \n",
       "unique             2                                2   \n",
       "top                1                               -1   \n",
       "freq             459                              461   \n",
       "\n",
       "       bigram - Logistic Regression bigram - SVC  \\\n",
       "count                           900          900   \n",
       "unique                            2            2   \n",
       "top                              -1           -1   \n",
       "freq                            464          467   \n",
       "\n",
       "       unibigram - Naive Bayes Multinomial unibigram - Logistic Regression  \\\n",
       "count                                  900                             900   \n",
       "unique                                   2                               2   \n",
       "top                                      1                               1   \n",
       "freq                                   455                             462   \n",
       "\n",
       "       unibigram - SVC  \n",
       "count              900  \n",
       "unique               2  \n",
       "top                 -1  \n",
       "freq               454  "
      ]
     },
     "execution_count": 50,
     "metadata": {},
     "output_type": "execute_result"
    }
   ],
   "source": [
    "all_predictions.describe()"
   ]
  },
  {
   "cell_type": "code",
   "execution_count": 51,
   "metadata": {
    "collapsed": false
   },
   "outputs": [
    {
     "name": "stdout",
     "output_type": "stream",
     "text": [
      "unigram - Naive Bayes Multinomial  -  0.8855555555555555\n",
      "unigram - Logistic Regression  -  0.88\n",
      "unigram - SVC  -  0.8822222222222222\n",
      "bigram - Naive Bayes Multinomial  -  0.7888888888888889\n",
      "bigram - Logistic Regression  -  0.7655555555555555\n",
      "bigram - SVC  -  0.7711111111111111\n",
      "unibigram - Naive Bayes Multinomial  -  0.8888888888888888\n",
      "unibigram - Logistic Regression  -  0.89\n",
      "unibigram - SVC  -  0.8811111111111111\n",
      "Total Average  -  0.9022222222222223\n"
     ]
    }
   ],
   "source": [
    "# Moyenne de toutes les colonnes\n",
    "moyennes = []\n",
    "nb_columns = len(all_predictions.columns)\n",
    "for i in all_predictions.index: #range(len(combinaison)):\n",
    "    moyenne = sum([int(all_predictions.iloc[i,j]) for j in range(nb_columns)])\n",
    "    moyenne = 1 if moyenne > 0 else -1\n",
    "    moyennes += [str(moyenne)]\n",
    "all_predictions['Total Average'] = moyennes\n",
    "\n",
    "for column in all_predictions.columns:\n",
    "    print(column,\" - \",precision(all_predictions[column],y2['unigram']))"
   ]
  },
  {
   "cell_type": "markdown",
   "metadata": {},
   "source": [
    "#### Combinaisons des 3 datasets avec une combinaison des 5 meilleurs classifiers\n",
    "- Naive Bayes Multinomial\n",
    "- Naive Bayes Gaussian\n",
    "- Logistic Regression\n",
    "- SVC\n",
    "- Linear SVC"
   ]
  },
  {
   "cell_type": "code",
   "execution_count": 52,
   "metadata": {
    "collapsed": true
   },
   "outputs": [],
   "source": [
    "clfs = [classifiers[i] for i in [0,1,2,3,7]] #correspont aux 5 classifiers présentés ci-dessus\n",
    "\n",
    "all_predictions = pd.DataFrame()\n",
    "\n",
    "for name in names:\n",
    "    for name_clf,clf in clfs:\n",
    "        clf.fit(X1[name],y1[name])\n",
    "        all_predictions[name+\" - \"+name_clf] = clf.predict(X2[name])"
   ]
  },
  {
   "cell_type": "code",
   "execution_count": 53,
   "metadata": {
    "collapsed": false
   },
   "outputs": [
    {
     "data": {
      "text/html": [
       "<div>\n",
       "<table border=\"1\" class=\"dataframe\">\n",
       "  <thead>\n",
       "    <tr style=\"text-align: right;\">\n",
       "      <th></th>\n",
       "      <th>unigram - Naive Bayes Multinomial</th>\n",
       "      <th>unigram - Naive Bayes Gaussian</th>\n",
       "      <th>unigram - Logistic Regression</th>\n",
       "      <th>unigram - Linear SVC</th>\n",
       "      <th>unigram - SVC</th>\n",
       "      <th>bigram - Naive Bayes Multinomial</th>\n",
       "      <th>bigram - Naive Bayes Gaussian</th>\n",
       "      <th>bigram - Logistic Regression</th>\n",
       "      <th>bigram - Linear SVC</th>\n",
       "      <th>bigram - SVC</th>\n",
       "      <th>unibigram - Naive Bayes Multinomial</th>\n",
       "      <th>unibigram - Naive Bayes Gaussian</th>\n",
       "      <th>unibigram - Logistic Regression</th>\n",
       "      <th>unibigram - Linear SVC</th>\n",
       "      <th>unibigram - SVC</th>\n",
       "    </tr>\n",
       "  </thead>\n",
       "  <tbody>\n",
       "    <tr>\n",
       "      <th>count</th>\n",
       "      <td>900</td>\n",
       "      <td>900</td>\n",
       "      <td>900</td>\n",
       "      <td>900</td>\n",
       "      <td>900</td>\n",
       "      <td>900</td>\n",
       "      <td>900</td>\n",
       "      <td>900</td>\n",
       "      <td>900</td>\n",
       "      <td>900</td>\n",
       "      <td>900</td>\n",
       "      <td>900</td>\n",
       "      <td>900</td>\n",
       "      <td>900</td>\n",
       "      <td>900</td>\n",
       "    </tr>\n",
       "    <tr>\n",
       "      <th>unique</th>\n",
       "      <td>2</td>\n",
       "      <td>2</td>\n",
       "      <td>2</td>\n",
       "      <td>2</td>\n",
       "      <td>2</td>\n",
       "      <td>2</td>\n",
       "      <td>2</td>\n",
       "      <td>2</td>\n",
       "      <td>2</td>\n",
       "      <td>2</td>\n",
       "      <td>2</td>\n",
       "      <td>2</td>\n",
       "      <td>2</td>\n",
       "      <td>2</td>\n",
       "      <td>2</td>\n",
       "    </tr>\n",
       "    <tr>\n",
       "      <th>top</th>\n",
       "      <td>1</td>\n",
       "      <td>1</td>\n",
       "      <td>1</td>\n",
       "      <td>1</td>\n",
       "      <td>1</td>\n",
       "      <td>-1</td>\n",
       "      <td>1</td>\n",
       "      <td>-1</td>\n",
       "      <td>-1</td>\n",
       "      <td>-1</td>\n",
       "      <td>1</td>\n",
       "      <td>-1</td>\n",
       "      <td>1</td>\n",
       "      <td>1</td>\n",
       "      <td>-1</td>\n",
       "    </tr>\n",
       "    <tr>\n",
       "      <th>freq</th>\n",
       "      <td>462</td>\n",
       "      <td>457</td>\n",
       "      <td>461</td>\n",
       "      <td>459</td>\n",
       "      <td>459</td>\n",
       "      <td>461</td>\n",
       "      <td>454</td>\n",
       "      <td>464</td>\n",
       "      <td>457</td>\n",
       "      <td>467</td>\n",
       "      <td>455</td>\n",
       "      <td>455</td>\n",
       "      <td>462</td>\n",
       "      <td>466</td>\n",
       "      <td>454</td>\n",
       "    </tr>\n",
       "  </tbody>\n",
       "</table>\n",
       "</div>"
      ],
      "text/plain": [
       "       unigram - Naive Bayes Multinomial unigram - Naive Bayes Gaussian  \\\n",
       "count                                900                            900   \n",
       "unique                                 2                              2   \n",
       "top                                    1                              1   \n",
       "freq                                 462                            457   \n",
       "\n",
       "       unigram - Logistic Regression unigram - Linear SVC unigram - SVC  \\\n",
       "count                            900                  900           900   \n",
       "unique                             2                    2             2   \n",
       "top                                1                    1             1   \n",
       "freq                             461                  459           459   \n",
       "\n",
       "       bigram - Naive Bayes Multinomial bigram - Naive Bayes Gaussian  \\\n",
       "count                               900                           900   \n",
       "unique                                2                             2   \n",
       "top                                  -1                             1   \n",
       "freq                                461                           454   \n",
       "\n",
       "       bigram - Logistic Regression bigram - Linear SVC bigram - SVC  \\\n",
       "count                           900                 900          900   \n",
       "unique                            2                   2            2   \n",
       "top                              -1                  -1           -1   \n",
       "freq                            464                 457          467   \n",
       "\n",
       "       unibigram - Naive Bayes Multinomial unibigram - Naive Bayes Gaussian  \\\n",
       "count                                  900                              900   \n",
       "unique                                   2                                2   \n",
       "top                                      1                               -1   \n",
       "freq                                   455                              455   \n",
       "\n",
       "       unibigram - Logistic Regression unibigram - Linear SVC unibigram - SVC  \n",
       "count                              900                    900             900  \n",
       "unique                               2                      2               2  \n",
       "top                                  1                      1              -1  \n",
       "freq                               462                    466             454  "
      ]
     },
     "execution_count": 53,
     "metadata": {},
     "output_type": "execute_result"
    }
   ],
   "source": [
    "all_predictions.describe()"
   ]
  },
  {
   "cell_type": "code",
   "execution_count": 54,
   "metadata": {
    "collapsed": false
   },
   "outputs": [
    {
     "name": "stdout",
     "output_type": "stream",
     "text": [
      "unigram - Naive Bayes Multinomial  -  0.8855555555555555\n",
      "unigram - Naive Bayes Gaussian  -  0.82\n",
      "unigram - Logistic Regression  -  0.88\n",
      "unigram - Linear SVC  -  0.8911111111111111\n",
      "unigram - SVC  -  0.8822222222222222\n",
      "bigram - Naive Bayes Multinomial  -  0.7888888888888889\n",
      "bigram - Naive Bayes Gaussian  -  0.7477777777777778\n",
      "bigram - Logistic Regression  -  0.7655555555555555\n",
      "bigram - Linear SVC  -  0.7711111111111111\n",
      "bigram - SVC  -  0.7711111111111111\n",
      "unibigram - Naive Bayes Multinomial  -  0.8888888888888888\n",
      "unibigram - Naive Bayes Gaussian  -  0.8444444444444444\n",
      "unibigram - Logistic Regression  -  0.89\n",
      "unibigram - Linear SVC  -  0.8877777777777778\n",
      "unibigram - SVC  -  0.8811111111111111\n",
      "Total Average  -  0.9133333333333333\n"
     ]
    }
   ],
   "source": [
    "# Moyenne de toutes les colonnes\n",
    "moyennes = []\n",
    "nb_columns = len(all_predictions.columns)\n",
    "for i in all_predictions.index: #range(len(combinaison)):\n",
    "    moyenne = sum([int(all_predictions.iloc[i,j]) for j in range(nb_columns)])\n",
    "    moyenne = 1 if moyenne > 0 else -1\n",
    "    moyennes += [str(moyenne)]\n",
    "all_predictions['Total Average'] = moyennes\n",
    "\n",
    "for column in all_predictions.columns:\n",
    "    print(column,\" - \",precision(all_predictions[column],y2['unigram']))"
   ]
  },
  {
   "cell_type": "markdown",
   "metadata": {},
   "source": [
    "#### Combinaisons des 3 datasets avec une combinaison de tous les classifiers"
   ]
  },
  {
   "cell_type": "code",
   "execution_count": 55,
   "metadata": {
    "collapsed": true
   },
   "outputs": [],
   "source": [
    "clfs = classifiers\n",
    "\n",
    "all_predictions = pd.DataFrame()\n",
    "\n",
    "for name in names:\n",
    "    for name_clf,clf in clfs:\n",
    "        clf.fit(X1[name],y1[name])\n",
    "        all_predictions[name+\" - \"+name_clf] = clf.predict(X2[name])"
   ]
  },
  {
   "cell_type": "code",
   "execution_count": 56,
   "metadata": {
    "collapsed": false
   },
   "outputs": [
    {
     "name": "stdout",
     "output_type": "stream",
     "text": [
      "unigram - Naive Bayes Multinomial  -  0.8855555555555555\n",
      "unigram - Naive Bayes Gaussian  -  0.82\n",
      "unigram - Logistic Regression  -  0.88\n",
      "unigram - Linear SVC  -  0.8911111111111111\n",
      "unigram - Random Forest  -  0.8222222222222222\n",
      "unigram - Gradient Boosting  -  0.7855555555555556\n",
      "unigram - KNeighbors  -  0.8133333333333334\n",
      "unigram - SVC  -  0.8822222222222222\n",
      "unigram - Decision Tree  -  0.74\n",
      "bigram - Naive Bayes Multinomial  -  0.7888888888888889\n",
      "bigram - Naive Bayes Gaussian  -  0.7477777777777778\n",
      "bigram - Logistic Regression  -  0.7655555555555555\n",
      "bigram - Linear SVC  -  0.7711111111111111\n",
      "bigram - Random Forest  -  0.7455555555555555\n",
      "bigram - Gradient Boosting  -  0.7466666666666667\n",
      "bigram - KNeighbors  -  0.6988888888888889\n",
      "bigram - SVC  -  0.7711111111111111\n",
      "bigram - Decision Tree  -  0.6822222222222222\n",
      "unibigram - Naive Bayes Multinomial  -  0.8888888888888888\n",
      "unibigram - Naive Bayes Gaussian  -  0.8444444444444444\n",
      "unibigram - Logistic Regression  -  0.89\n",
      "unibigram - Linear SVC  -  0.8877777777777778\n",
      "unibigram - Random Forest  -  0.8266666666666667\n",
      "unibigram - Gradient Boosting  -  0.7877777777777778\n",
      "unibigram - KNeighbors  -  0.8\n",
      "unibigram - SVC  -  0.8811111111111111\n",
      "unibigram - Decision Tree  -  0.6988888888888889\n",
      "Total Average  -  0.9088888888888889\n"
     ]
    }
   ],
   "source": [
    "# Moyenne de toutes les colonnes\n",
    "moyennes = []\n",
    "nb_columns = len(all_predictions.columns)\n",
    "for i in all_predictions.index: #range(len(combinaison)):\n",
    "    moyenne = sum([int(all_predictions.iloc[i,j]) for j in range(nb_columns)])\n",
    "    moyenne = 1 if moyenne > 0 else -1\n",
    "    moyennes += [str(moyenne)]\n",
    "all_predictions['Total Average'] = moyennes\n",
    "\n",
    "for column in all_predictions.columns:\n",
    "    print(column,\" - \",precision(all_predictions[column],y2['unigram']))"
   ]
  },
  {
   "cell_type": "markdown",
   "metadata": {},
   "source": [
    "La meilleure configuration apparait donc être \n",
    "- **analyse sur l'ensemble des 3 datasets**\n",
    "- **utiliser les 5 meilleurs classfiers au global**\n",
    "\n",
    "Avec les 15 résultats, on moyenne l'analyse pour chaque prédiction"
   ]
  },
  {
   "cell_type": "markdown",
   "metadata": {},
   "source": [
    "***\n",
    "# Prédiction"
   ]
  },
  {
   "cell_type": "code",
   "execution_count": 57,
   "metadata": {
    "collapsed": true
   },
   "outputs": [],
   "source": [
    "clfs = [classifiers[i] for i in [0,1,2,3,7]] #correspont aux 5 classifiers présentés ci-dessus\n",
    "\n",
    "all_predictions = pd.DataFrame()\n",
    "\n",
    "for name in names:\n",
    "    for name_clf,clf in clfs:\n",
    "        clf.fit(X[name],y[name])\n",
    "        all_predictions[name+\" - \"+name_clf] = clf.predict(tests[name])"
   ]
  },
  {
   "cell_type": "code",
   "execution_count": 58,
   "metadata": {
    "collapsed": false
   },
   "outputs": [
    {
     "data": {
      "text/html": [
       "<div>\n",
       "<table border=\"1\" class=\"dataframe\">\n",
       "  <thead>\n",
       "    <tr style=\"text-align: right;\">\n",
       "      <th></th>\n",
       "      <th>unigram - Naive Bayes Multinomial</th>\n",
       "      <th>unigram - Naive Bayes Gaussian</th>\n",
       "      <th>unigram - Logistic Regression</th>\n",
       "      <th>unigram - Linear SVC</th>\n",
       "      <th>unigram - SVC</th>\n",
       "      <th>bigram - Naive Bayes Multinomial</th>\n",
       "      <th>bigram - Naive Bayes Gaussian</th>\n",
       "      <th>bigram - Logistic Regression</th>\n",
       "      <th>bigram - Linear SVC</th>\n",
       "      <th>bigram - SVC</th>\n",
       "      <th>unibigram - Naive Bayes Multinomial</th>\n",
       "      <th>unibigram - Naive Bayes Gaussian</th>\n",
       "      <th>unibigram - Logistic Regression</th>\n",
       "      <th>unibigram - Linear SVC</th>\n",
       "      <th>unibigram - SVC</th>\n",
       "      <th>Total Average</th>\n",
       "    </tr>\n",
       "  </thead>\n",
       "  <tbody>\n",
       "    <tr>\n",
       "      <th>count</th>\n",
       "      <td>2500</td>\n",
       "      <td>2500</td>\n",
       "      <td>2500</td>\n",
       "      <td>2500</td>\n",
       "      <td>2500</td>\n",
       "      <td>2500</td>\n",
       "      <td>2500</td>\n",
       "      <td>2500</td>\n",
       "      <td>2500</td>\n",
       "      <td>2500</td>\n",
       "      <td>2500</td>\n",
       "      <td>2500</td>\n",
       "      <td>2500</td>\n",
       "      <td>2500</td>\n",
       "      <td>2500</td>\n",
       "      <td>2500</td>\n",
       "    </tr>\n",
       "    <tr>\n",
       "      <th>unique</th>\n",
       "      <td>2</td>\n",
       "      <td>2</td>\n",
       "      <td>2</td>\n",
       "      <td>2</td>\n",
       "      <td>2</td>\n",
       "      <td>2</td>\n",
       "      <td>2</td>\n",
       "      <td>2</td>\n",
       "      <td>2</td>\n",
       "      <td>2</td>\n",
       "      <td>2</td>\n",
       "      <td>2</td>\n",
       "      <td>2</td>\n",
       "      <td>2</td>\n",
       "      <td>2</td>\n",
       "      <td>2</td>\n",
       "    </tr>\n",
       "    <tr>\n",
       "      <th>top</th>\n",
       "      <td>1</td>\n",
       "      <td>1</td>\n",
       "      <td>1</td>\n",
       "      <td>1</td>\n",
       "      <td>1</td>\n",
       "      <td>1</td>\n",
       "      <td>1</td>\n",
       "      <td>1</td>\n",
       "      <td>1</td>\n",
       "      <td>1</td>\n",
       "      <td>1</td>\n",
       "      <td>1</td>\n",
       "      <td>1</td>\n",
       "      <td>1</td>\n",
       "      <td>1</td>\n",
       "      <td>1</td>\n",
       "    </tr>\n",
       "    <tr>\n",
       "      <th>freq</th>\n",
       "      <td>1352</td>\n",
       "      <td>1414</td>\n",
       "      <td>1376</td>\n",
       "      <td>1396</td>\n",
       "      <td>1364</td>\n",
       "      <td>1302</td>\n",
       "      <td>1396</td>\n",
       "      <td>1333</td>\n",
       "      <td>1358</td>\n",
       "      <td>1304</td>\n",
       "      <td>1341</td>\n",
       "      <td>1398</td>\n",
       "      <td>1369</td>\n",
       "      <td>1389</td>\n",
       "      <td>1358</td>\n",
       "      <td>1370</td>\n",
       "    </tr>\n",
       "  </tbody>\n",
       "</table>\n",
       "</div>"
      ],
      "text/plain": [
       "       unigram - Naive Bayes Multinomial unigram - Naive Bayes Gaussian  \\\n",
       "count                               2500                           2500   \n",
       "unique                                 2                              2   \n",
       "top                                    1                              1   \n",
       "freq                                1352                           1414   \n",
       "\n",
       "       unigram - Logistic Regression unigram - Linear SVC unigram - SVC  \\\n",
       "count                           2500                 2500          2500   \n",
       "unique                             2                    2             2   \n",
       "top                                1                    1             1   \n",
       "freq                            1376                 1396          1364   \n",
       "\n",
       "       bigram - Naive Bayes Multinomial bigram - Naive Bayes Gaussian  \\\n",
       "count                              2500                          2500   \n",
       "unique                                2                             2   \n",
       "top                                   1                             1   \n",
       "freq                               1302                          1396   \n",
       "\n",
       "       bigram - Logistic Regression bigram - Linear SVC bigram - SVC  \\\n",
       "count                          2500                2500         2500   \n",
       "unique                            2                   2            2   \n",
       "top                               1                   1            1   \n",
       "freq                           1333                1358         1304   \n",
       "\n",
       "       unibigram - Naive Bayes Multinomial unibigram - Naive Bayes Gaussian  \\\n",
       "count                                 2500                             2500   \n",
       "unique                                   2                                2   \n",
       "top                                      1                                1   \n",
       "freq                                  1341                             1398   \n",
       "\n",
       "       unibigram - Logistic Regression unibigram - Linear SVC unibigram - SVC  \\\n",
       "count                             2500                   2500            2500   \n",
       "unique                               2                      2               2   \n",
       "top                                  1                      1               1   \n",
       "freq                              1369                   1389            1358   \n",
       "\n",
       "       Total Average  \n",
       "count           2500  \n",
       "unique             2  \n",
       "top                1  \n",
       "freq            1370  "
      ]
     },
     "execution_count": 58,
     "metadata": {},
     "output_type": "execute_result"
    }
   ],
   "source": [
    "# Moyenne de toutes les colonnes\n",
    "moyennes = []\n",
    "nb_columns = len(all_predictions.columns)\n",
    "for i in all_predictions.index: #range(len(combinaison)):\n",
    "    moyenne = sum([int(all_predictions.iloc[i,j]) for j in range(nb_columns)])\n",
    "    moyenne = 1 if moyenne > 0 else -1\n",
    "    moyennes += [str(moyenne)]\n",
    "all_predictions['Total Average'] = moyennes\n",
    "all_predictions.describe()"
   ]
  },
  {
   "cell_type": "code",
   "execution_count": 59,
   "metadata": {
    "collapsed": false
   },
   "outputs": [],
   "source": [
    "final_prediction = all_predictions['Total Average']\n",
    "\n",
    "with open(\"Centrale/DM2016_Project/submission.txt\", 'w') as f_out:\n",
    "    f_out.write(\"\\n\".join(str(int(x)) for x in final_prediction))"
   ]
  }
 ],
 "metadata": {
  "celltoolbar": "Raw Cell Format",
  "kernelspec": {
   "display_name": "Python 3",
   "language": "python",
   "name": "python3"
  },
  "language_info": {
   "codemirror_mode": {
    "name": "ipython",
    "version": 3
   },
   "file_extension": ".py",
   "mimetype": "text/x-python",
   "name": "python",
   "nbconvert_exporter": "python",
   "pygments_lexer": "ipython3",
   "version": "3.5.1"
  }
 },
 "nbformat": 4,
 "nbformat_minor": 0
}
